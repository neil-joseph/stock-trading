{
 "cells": [
  {
   "cell_type": "code",
   "execution_count": 15,
   "metadata": {
    "collapsed": true
   },
   "outputs": [],
   "source": [
    "import pandas as pd\n",
    "import datetime\n",
    "import matplotlib.pyplot as plt"
   ]
  },
  {
   "cell_type": "code",
   "execution_count": 16,
   "metadata": {
    "collapsed": true
   },
   "outputs": [],
   "source": [
    "source_folder = 'C:\\\\Users\\\\EMBA\\\\Documents\\\\Technical_Training\\\\Machine Learning - Stock Market trading\\\\Yes Bank\\\\Data\\\\'\n",
    "target_folder = 'C:\\\\Users\\\\EMBA\\\\Documents\\\\Technical_Training\\\\Machine Learning - Stock Market trading\\\\Yes Bank\\\\Data\\\\Featurized\\\\'\n",
    "file_name = 'YESBANK.csv'\n",
    "#file_name = 'NSE.csv'\n",
    "#file_name = 'RELIANCE.csv'\n",
    "#file_name = 'LT.csv'\n",
    "source_file_path = source_folder +  file_name\n",
    "target_file_path = target_folder + file_name\n",
    "stock_data = pd.read_csv(source_file_path)"
   ]
  },
  {
   "cell_type": "code",
   "execution_count": 17,
   "metadata": {},
   "outputs": [
    {
     "data": {
      "text/plain": [
       "Index(['Date', 'Open', 'High', 'Low', 'Close', 'Adj Close', 'Volume', 'Stock'], dtype='object')"
      ]
     },
     "execution_count": 17,
     "metadata": {},
     "output_type": "execute_result"
    }
   ],
   "source": [
    "stock_data.columns"
   ]
  },
  {
   "cell_type": "code",
   "execution_count": 18,
   "metadata": {},
   "outputs": [
    {
     "data": {
      "text/plain": [
       "Date         3036\n",
       "Open         3026\n",
       "High         3026\n",
       "Low          3026\n",
       "Close        3026\n",
       "Adj Close    3026\n",
       "Volume       3026\n",
       "Stock        3036\n",
       "dtype: int64"
      ]
     },
     "execution_count": 18,
     "metadata": {},
     "output_type": "execute_result"
    }
   ],
   "source": [
    "stock_data.count()"
   ]
  },
  {
   "cell_type": "code",
   "execution_count": 19,
   "metadata": {
    "collapsed": true
   },
   "outputs": [],
   "source": [
    "stock_data = stock_data.dropna(axis=0,how='any',thresh=stock_data.shape[1]-2)"
   ]
  },
  {
   "cell_type": "code",
   "execution_count": 20,
   "metadata": {},
   "outputs": [
    {
     "data": {
      "text/plain": [
       "3026"
      ]
     },
     "execution_count": 20,
     "metadata": {},
     "output_type": "execute_result"
    }
   ],
   "source": [
    "len(stock_data)"
   ]
  },
  {
   "cell_type": "code",
   "execution_count": 21,
   "metadata": {
    "collapsed": true
   },
   "outputs": [],
   "source": [
    "stock_data['% Change'] = stock_data['Close'].pct_change()*100\n",
    "stock_data['% V_Change'] = stock_data['Volume'].pct_change()*100\n",
    "stock_data['% Change Open'] = stock_data['Open'].pct_change(1)*100\n",
    "std_FVC_1 = stock_data['% V_Change'].std()\n",
    "stock_data['Add_V_Spike'] = stock_data['% V_Change'].apply(lambda x:1 if x>std_FVC_1 else 0)\n",
    "stock_data['Add_CTrend'] = stock_data['% Change'].apply(lambda x:1 if x> 0 else 0)\n",
    "stock_data['Add_OTrend'] = stock_data['% Change Open'].apply(lambda x:1 if x> 0 else 0)\n",
    "\n",
    "stock_data['Gain'] = stock_data['% Change'].apply(lambda x:x if x >0 else 0)\n",
    "\n",
    "stock_data['Loss'] = stock_data['% Change'].apply(lambda x:x if x <0 else 0)"
   ]
  },
  {
   "cell_type": "code",
   "execution_count": 22,
   "metadata": {},
   "outputs": [],
   "source": [
    "d = [10,15,20,25,30,50,150,200]\n",
    "y = [1,1,1,1,1,1,1,1]\n",
    "z = [3,3,3,3,3,3,3,3]\n",
    "for D,Y,Z in zip(d,y,z):\n",
    "    RB_Mean_D = 'RB_Mean_' + str(D) # Rolling Mean of Close price for past D days\n",
    "    RB_V_Mean_D = 'RB_V_Mean_' + str(D)  # Rolling Mean of Volume for past D days\n",
    "    RBC_D = 'Roll_C_' + str(D) #Change in Rolling Mean Closing price of past D days from last traded day \n",
    "    RBVC_D = 'Roll_VC_' + str(D) #Change in Rolling traded volume of past D days from last traded day\n",
    "    \n",
    "    DF_C_D = 'DF_C_' + str(D) #Return realized D days into future \n",
    "    DF_VC_D = 'DF_VC_' + str(D) #Change in traded volume D days into the future\n",
    "    RF_C_D = 'Roll_C_' + str(D) #Rolling Mean Close Price of future D days\n",
    "    RF_VC_D = 'Roll_VC_' + str(D) #Rolling Mean Traded volume of future D days\n",
    "    DF_V_Signal_D = 'DF_V_Signal_' + str(D) #Buy / Sell /Do nothing signal based on change in traded volume D days into future\n",
    "    #DF_Signal_D = 'DF_Signal_' + str(D) #Buy / Sell /Do nothing signal based on change in Close Price D days into future\n",
    "    DF_Signal_Buy_D = 'DF_Signal_Buy_' + str(D) #Buy / Do nothing signal based on change in Close Price D days into future\n",
    "    DF_Signal_Sell_D = 'DF_Signal_Sell_' + str(D) #Sell /Do nothing signal based on change in Close Price D days into future\n",
    "    #RF_FPR_Signal_D = 'RB_FPR_Signal_' + str(D) #Buy / Sell /Do nothing signal based on change in Rolling Close Price D days into future\n",
    "    #RF_FVC_Signal_D = 'RB_FVC_Signal_' +str(D) #Buy / Sell /Do nothing signal based on change in Rolling traded volume D days into future\n",
    "    \n",
    "    \n",
    "    DB_Max_D = 'DB_Max_' + str(D) # Maximum Closing price in past D days\n",
    "    DB_Min_D = 'DB_Min_' + str(D) # Minimum Closing price in past D days\n",
    "    DB_VMax_D = 'DB_VMax_' + str(D) #Maximum traded Volume in past D days\n",
    "    DB_VMin_D = 'DB_VMin_' + str(D) #Minimum traded volume in past D days\n",
    "    DBC_Max_D = 'DBC_Max_' + str(D) #Change from Maximum Closing price in past D days to current Closing price\n",
    "    DBC_Min_D = 'DBC_Min_' + str(D) #Change from Minimum Closing price in past D days to current Closing price\n",
    "    DBC_Mean_D = 'DBC_Mean_' + str(D) #Change from Rolling Mean Closing price of past D days to current Closing price\n",
    "    DBCV_Max_D = 'DBCV_Max_' + str(D) #Change from Maximum traded volume in past D days to current traded volume \n",
    "    DBCV_Min_D = 'DBCV_Min_' + str(D) #Change from Minimum traded volume in past D days to current traded volume\n",
    "    DBCV_Mean_D = 'DBCV_Mean_' + str(D) #Change from Rolling Mean traded volume of past D days to current traded volume\n",
    "    \n",
    "    Avg_Gain_D = 'Avg_Gain_' +str(D)\n",
    "    Avg_Loss_D = 'Avg_Loss_' +str(D)\n",
    "    RS_D = 'RS_' +str(D)\n",
    "    Add_RSI_D = 'Add_RSI_' +str(D)\n",
    " \n",
    "    stock_data[RB_Mean_D] = stock_data['Close'].rolling(window=D).mean()\n",
    "    stock_data[RB_V_Mean_D] = stock_data['Volume'].rolling(window=D).mean()\n",
    "    #stock_data[RBC_D] = stock_data[RB_Mean_D].pct_change(-D)*100\n",
    "    #stock_data[RBVC_D] = stock_data[RB_V_Mean_D].pct_change(-D)*100\n",
    "    stock_data[RBC_D] = stock_data['Close'].pct_change(D)*100\n",
    "    stock_data[RBVC_D] = stock_data['Close'].pct_change(D)*100\n",
    "    \n",
    "    stock_data[DF_C_D] = stock_data['Close'].pct_change(-D)*100\n",
    "    stock_data[DF_VC_D] = stock_data['Volume'].pct_change(-D)*100\n",
    "    #stock_data[RF_C_D] = stock_data['Close'].rolling(window=-D).mean()\n",
    "    #stock_data[RF_VC_D] = stock_data['Volume'].rolling(window=-D).mean()\n",
    "\n",
    "    std_FPR = stock_data[DF_C_D].std()\n",
    "    if std_FPR > Z:\n",
    "        std_FPR = Z\n",
    "    std_FVC = stock_data[DF_VC_D].std()\n",
    "    \n",
    "    #std_RPR = stock_data[RF_C_D].std()\n",
    "    #if std_RPR > Z:\n",
    "    #    std_RPR = Z\n",
    "    #std_RVC = stock_data[RF_VC_D].std()\n",
    "\n",
    "    #stock_data[DF_Signal_D] = stock_data[DF_C_D].apply(lambda x:Y if x>std_FPR else (-Y if x<(-1*std_FPR) else 0))\n",
    "    stock_data[DF_Signal_Buy_D] = stock_data[DF_C_D].apply(lambda x:Y if x>std_FPR else 0) #(-Y if x<(-1*std_FPR) else 0))\n",
    "    stock_data[DF_Signal_Sell_D] = stock_data[DF_C_D].apply(lambda x:-Y if x< (-1* std_FPR) else 0) #(-Y if x<(-1*std_FPR) else 0))\n",
    "    stock_data[DF_V_Signal_D] = stock_data[DF_VC_D].apply(lambda x:Y if x>std_FVC else (-Y if x<(-1*std_FVC) else 0))\n",
    "    \n",
    "    #stock_data[RF_Signal_D] = stock_data[RF_C_D].apply(lambda x:-Y if x>std_RPR else (Y if x<(-1*std_RPR) else 0))\n",
    "    #stock_data[RF_V_Signal_D] = stock_data[RF_VC_D].apply(lambda x:-Y if x>std_RVC else (Y if x<(-1*std_RVC) else 0))\n",
    " \n",
    "    stock_data[DB_Max_D] = stock_data['Close'].rolling(window=D).max()\n",
    "    stock_data[DB_Min_D] = stock_data['Close'].rolling(window=D).min()\n",
    "    stock_data[DB_VMax_D] = stock_data['Volume'].rolling(window=D).max()\n",
    "    stock_data[DB_VMin_D] = stock_data['Volume'].rolling(window=D).min()\n",
    "    stock_data[DBC_Max_D] = (stock_data[DB_Max_D] - stock_data['Close']) / stock_data['Close'] * 100\n",
    "    stock_data[DBC_Min_D] = (stock_data['Close'] - stock_data[DB_Min_D]) / stock_data[DB_Min_D] * 100 \n",
    "    stock_data[DBC_Mean_D] = (stock_data[RB_Mean_D] - stock_data['Close']) / stock_data['Close'] * 100\n",
    "    stock_data[DBCV_Max_D] = (stock_data[DB_VMax_D] - stock_data['Volume']) / stock_data['Volume'] * 100\n",
    "    stock_data[DBCV_Min_D] = (stock_data['Volume'] - stock_data[DB_VMin_D]) / stock_data[DB_VMax_D] * 100\n",
    "    stock_data[DBCV_Mean_D] = (stock_data[RB_V_Mean_D] - stock_data['Volume'])/ stock_data['Volume'] * 100\n",
    "    \n",
    "    \n",
    "    stock_data[Avg_Gain_D] = stock_data['Gain'].rolling(window=D).mean()\n",
    "    stock_data[Avg_Loss_D] = stock_data['Loss'].rolling(window=D).mean()\n",
    "    stock_data[RS_D] = stock_data[Avg_Gain_D] / stock_data[Avg_Loss_D]\n",
    "    stock_data[Add_RSI_D] = stock_data[RS_D].apply(lambda x:(100 - (100/(1 + x))))\n",
    "\n",
    "    #stock_data[DF_FPR_Signal_D].plot(figsize=(12,8))\n",
    "    #plt.show()\n",
    "\n",
    "    #stock_data[DF_FPR_Signal_D].value_counts().plot(kind='bar',figsize=(12,8))\n",
    "    #plt.show()\n",
    "\n",
    "    #plt.scatter(stock_data['Close'],stock_data[DF_FPR_Signal_D],alpha=1,c='b')\n",
    "    #plt.show()"
   ]
  },
  {
   "cell_type": "code",
   "execution_count": 23,
   "metadata": {},
   "outputs": [
    {
     "data": {
      "text/plain": [
       "['Date',\n",
       " 'Open',\n",
       " 'High',\n",
       " 'Low',\n",
       " 'Close',\n",
       " 'Adj Close',\n",
       " 'Volume',\n",
       " 'Stock',\n",
       " '% Change',\n",
       " '% V_Change',\n",
       " '% Change Open',\n",
       " 'Add_V_Spike',\n",
       " 'Add_CTrend',\n",
       " 'Add_OTrend',\n",
       " 'Gain',\n",
       " 'Loss',\n",
       " 'RB_Mean_10',\n",
       " 'RB_V_Mean_10',\n",
       " 'Roll_C_10',\n",
       " 'Roll_VC_10',\n",
       " 'DF_C_10',\n",
       " 'DF_VC_10',\n",
       " 'DF_Signal_Buy_10',\n",
       " 'DF_Signal_Sell_10',\n",
       " 'DF_V_Signal_10',\n",
       " 'DB_Max_10',\n",
       " 'DB_Min_10',\n",
       " 'DB_VMax_10',\n",
       " 'DB_VMin_10',\n",
       " 'DBC_Max_10',\n",
       " 'DBC_Min_10',\n",
       " 'DBC_Mean_10',\n",
       " 'DBCV_Max_10',\n",
       " 'DBCV_Min_10',\n",
       " 'DBCV_Mean_10',\n",
       " 'Avg_Gain_10',\n",
       " 'Avg_Loss_10',\n",
       " 'RS_10',\n",
       " 'Add_RSI_10',\n",
       " 'RB_Mean_15',\n",
       " 'RB_V_Mean_15',\n",
       " 'Roll_C_15',\n",
       " 'Roll_VC_15',\n",
       " 'DF_C_15',\n",
       " 'DF_VC_15',\n",
       " 'DF_Signal_Buy_15',\n",
       " 'DF_Signal_Sell_15',\n",
       " 'DF_V_Signal_15',\n",
       " 'DB_Max_15',\n",
       " 'DB_Min_15',\n",
       " 'DB_VMax_15',\n",
       " 'DB_VMin_15',\n",
       " 'DBC_Max_15',\n",
       " 'DBC_Min_15',\n",
       " 'DBC_Mean_15',\n",
       " 'DBCV_Max_15',\n",
       " 'DBCV_Min_15',\n",
       " 'DBCV_Mean_15',\n",
       " 'Avg_Gain_15',\n",
       " 'Avg_Loss_15',\n",
       " 'RS_15',\n",
       " 'Add_RSI_15',\n",
       " 'RB_Mean_20',\n",
       " 'RB_V_Mean_20',\n",
       " 'Roll_C_20',\n",
       " 'Roll_VC_20',\n",
       " 'DF_C_20',\n",
       " 'DF_VC_20',\n",
       " 'DF_Signal_Buy_20',\n",
       " 'DF_Signal_Sell_20',\n",
       " 'DF_V_Signal_20',\n",
       " 'DB_Max_20',\n",
       " 'DB_Min_20',\n",
       " 'DB_VMax_20',\n",
       " 'DB_VMin_20',\n",
       " 'DBC_Max_20',\n",
       " 'DBC_Min_20',\n",
       " 'DBC_Mean_20',\n",
       " 'DBCV_Max_20',\n",
       " 'DBCV_Min_20',\n",
       " 'DBCV_Mean_20',\n",
       " 'Avg_Gain_20',\n",
       " 'Avg_Loss_20',\n",
       " 'RS_20',\n",
       " 'Add_RSI_20',\n",
       " 'RB_Mean_25',\n",
       " 'RB_V_Mean_25',\n",
       " 'Roll_C_25',\n",
       " 'Roll_VC_25',\n",
       " 'DF_C_25',\n",
       " 'DF_VC_25',\n",
       " 'DF_Signal_Buy_25',\n",
       " 'DF_Signal_Sell_25',\n",
       " 'DF_V_Signal_25',\n",
       " 'DB_Max_25',\n",
       " 'DB_Min_25',\n",
       " 'DB_VMax_25',\n",
       " 'DB_VMin_25',\n",
       " 'DBC_Max_25',\n",
       " 'DBC_Min_25',\n",
       " 'DBC_Mean_25',\n",
       " 'DBCV_Max_25',\n",
       " 'DBCV_Min_25',\n",
       " 'DBCV_Mean_25',\n",
       " 'Avg_Gain_25',\n",
       " 'Avg_Loss_25',\n",
       " 'RS_25',\n",
       " 'Add_RSI_25',\n",
       " 'RB_Mean_30',\n",
       " 'RB_V_Mean_30',\n",
       " 'Roll_C_30',\n",
       " 'Roll_VC_30',\n",
       " 'DF_C_30',\n",
       " 'DF_VC_30',\n",
       " 'DF_Signal_Buy_30',\n",
       " 'DF_Signal_Sell_30',\n",
       " 'DF_V_Signal_30',\n",
       " 'DB_Max_30',\n",
       " 'DB_Min_30',\n",
       " 'DB_VMax_30',\n",
       " 'DB_VMin_30',\n",
       " 'DBC_Max_30',\n",
       " 'DBC_Min_30',\n",
       " 'DBC_Mean_30',\n",
       " 'DBCV_Max_30',\n",
       " 'DBCV_Min_30',\n",
       " 'DBCV_Mean_30',\n",
       " 'Avg_Gain_30',\n",
       " 'Avg_Loss_30',\n",
       " 'RS_30',\n",
       " 'Add_RSI_30',\n",
       " 'RB_Mean_50',\n",
       " 'RB_V_Mean_50',\n",
       " 'Roll_C_50',\n",
       " 'Roll_VC_50',\n",
       " 'DF_C_50',\n",
       " 'DF_VC_50',\n",
       " 'DF_Signal_Buy_50',\n",
       " 'DF_Signal_Sell_50',\n",
       " 'DF_V_Signal_50',\n",
       " 'DB_Max_50',\n",
       " 'DB_Min_50',\n",
       " 'DB_VMax_50',\n",
       " 'DB_VMin_50',\n",
       " 'DBC_Max_50',\n",
       " 'DBC_Min_50',\n",
       " 'DBC_Mean_50',\n",
       " 'DBCV_Max_50',\n",
       " 'DBCV_Min_50',\n",
       " 'DBCV_Mean_50',\n",
       " 'Avg_Gain_50',\n",
       " 'Avg_Loss_50',\n",
       " 'RS_50',\n",
       " 'Add_RSI_50',\n",
       " 'RB_Mean_150',\n",
       " 'RB_V_Mean_150',\n",
       " 'Roll_C_150',\n",
       " 'Roll_VC_150',\n",
       " 'DF_C_150',\n",
       " 'DF_VC_150',\n",
       " 'DF_Signal_Buy_150',\n",
       " 'DF_Signal_Sell_150',\n",
       " 'DF_V_Signal_150',\n",
       " 'DB_Max_150',\n",
       " 'DB_Min_150',\n",
       " 'DB_VMax_150',\n",
       " 'DB_VMin_150',\n",
       " 'DBC_Max_150',\n",
       " 'DBC_Min_150',\n",
       " 'DBC_Mean_150',\n",
       " 'DBCV_Max_150',\n",
       " 'DBCV_Min_150',\n",
       " 'DBCV_Mean_150',\n",
       " 'Avg_Gain_150',\n",
       " 'Avg_Loss_150',\n",
       " 'RS_150',\n",
       " 'Add_RSI_150',\n",
       " 'RB_Mean_200',\n",
       " 'RB_V_Mean_200',\n",
       " 'Roll_C_200',\n",
       " 'Roll_VC_200',\n",
       " 'DF_C_200',\n",
       " 'DF_VC_200',\n",
       " 'DF_Signal_Buy_200',\n",
       " 'DF_Signal_Sell_200',\n",
       " 'DF_V_Signal_200',\n",
       " 'DB_Max_200',\n",
       " 'DB_Min_200',\n",
       " 'DB_VMax_200',\n",
       " 'DB_VMin_200',\n",
       " 'DBC_Max_200',\n",
       " 'DBC_Min_200',\n",
       " 'DBC_Mean_200',\n",
       " 'DBCV_Max_200',\n",
       " 'DBCV_Min_200',\n",
       " 'DBCV_Mean_200',\n",
       " 'Avg_Gain_200',\n",
       " 'Avg_Loss_200',\n",
       " 'RS_200',\n",
       " 'Add_RSI_200']"
      ]
     },
     "execution_count": 23,
     "metadata": {},
     "output_type": "execute_result"
    }
   ],
   "source": [
    "attr_cols = (stock_data.columns).tolist()\n",
    "attr_cols"
   ]
  },
  {
   "cell_type": "code",
   "execution_count": 24,
   "metadata": {
    "collapsed": true
   },
   "outputs": [],
   "source": [
    "signal_cols = []\n",
    "for i in attr_cols:\n",
    "    attr_list=[]\n",
    "    attr_list = i.split('_')\n",
    "    if 'Signal' in attr_list:\n",
    "        signal_cols.append(i)"
   ]
  },
  {
   "cell_type": "code",
   "execution_count": 25,
   "metadata": {},
   "outputs": [
    {
     "data": {
      "text/plain": [
       "['DF_Signal_Buy_10',\n",
       " 'DF_Signal_Sell_10',\n",
       " 'DF_V_Signal_10',\n",
       " 'DF_Signal_Buy_15',\n",
       " 'DF_Signal_Sell_15',\n",
       " 'DF_V_Signal_15',\n",
       " 'DF_Signal_Buy_20',\n",
       " 'DF_Signal_Sell_20',\n",
       " 'DF_V_Signal_20',\n",
       " 'DF_Signal_Buy_25',\n",
       " 'DF_Signal_Sell_25',\n",
       " 'DF_V_Signal_25',\n",
       " 'DF_Signal_Buy_30',\n",
       " 'DF_Signal_Sell_30',\n",
       " 'DF_V_Signal_30',\n",
       " 'DF_Signal_Buy_50',\n",
       " 'DF_Signal_Sell_50',\n",
       " 'DF_V_Signal_50',\n",
       " 'DF_Signal_Buy_150',\n",
       " 'DF_Signal_Sell_150',\n",
       " 'DF_V_Signal_150',\n",
       " 'DF_Signal_Buy_200',\n",
       " 'DF_Signal_Sell_200',\n",
       " 'DF_V_Signal_200']"
      ]
     },
     "execution_count": 25,
     "metadata": {},
     "output_type": "execute_result"
    }
   ],
   "source": [
    "signal_cols"
   ]
  },
  {
   "cell_type": "code",
   "execution_count": 26,
   "metadata": {
    "collapsed": true
   },
   "outputs": [],
   "source": [
    "stock_data.to_csv(target_file_path)"
   ]
  },
  {
   "cell_type": "code",
   "execution_count": null,
   "metadata": {
    "collapsed": true
   },
   "outputs": [],
   "source": []
  }
 ],
 "metadata": {
  "kernelspec": {
   "display_name": "Python 3",
   "language": "python",
   "name": "python3"
  },
  "language_info": {
   "codemirror_mode": {
    "name": "ipython",
    "version": 3
   },
   "file_extension": ".py",
   "mimetype": "text/x-python",
   "name": "python",
   "nbconvert_exporter": "python",
   "pygments_lexer": "ipython3",
   "version": "3.6.1"
  }
 },
 "nbformat": 4,
 "nbformat_minor": 2
}
