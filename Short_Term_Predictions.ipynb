{
 "cells": [
  {
   "cell_type": "code",
   "execution_count": 63,
   "metadata": {
    "collapsed": true
   },
   "outputs": [],
   "source": [
    "import pandas as pd\n",
    "from __future__ import division\n",
    "import numpy as np\n",
    "from sklearn.model_selection import train_test_split\n",
    "import sklearn as sk\n",
    "from sklearn.linear_model import LogisticRegression\n",
    "import matplotlib.pyplot as plt"
   ]
  },
  {
   "cell_type": "code",
   "execution_count": 64,
   "metadata": {
    "collapsed": true
   },
   "outputs": [],
   "source": [
    "source_folder = 'C:\\\\Users\\\\EMBA\\\\Documents\\\\Technical_Training\\\\Machine Learning - Stock Market trading\\\\Yes Bank\\\\Data\\\\Featurized\\\\'\n",
    "target_folder = 'C:\\\\Users\\\\EMBA\\\\Documents\\\\Technical_Training\\\\Machine Learning - Stock Market trading\\\\Yes Bank\\\\Model\\\\'\n",
    "#file_name = 'Consolidated_data_set.csv'\n",
    "file_name = 'YESBANK.csv'\n",
    "model_name ='Comprehensive_model.sav'\n",
    "source_file_path = source_folder +  file_name\n",
    "target_file_path = target_folder + model_name\n",
    "stock_data = pd.read_csv(source_file_path)"
   ]
  },
  {
   "cell_type": "code",
   "execution_count": 65,
   "metadata": {
    "collapsed": true
   },
   "outputs": [],
   "source": [
    "stock_data = stock_data.replace([np.inf, -np.inf], np.nan)"
   ]
  },
  {
   "cell_type": "code",
   "execution_count": 66,
   "metadata": {
    "collapsed": true
   },
   "outputs": [],
   "source": [
    "stock_data.fillna(0,inplace=True)"
   ]
  },
  {
   "cell_type": "code",
   "execution_count": 67,
   "metadata": {},
   "outputs": [
    {
     "data": {
      "text/html": [
       "<div>\n",
       "<style>\n",
       "    .dataframe thead tr:only-child th {\n",
       "        text-align: right;\n",
       "    }\n",
       "\n",
       "    .dataframe thead th {\n",
       "        text-align: left;\n",
       "    }\n",
       "\n",
       "    .dataframe tbody tr th {\n",
       "        vertical-align: top;\n",
       "    }\n",
       "</style>\n",
       "<table border=\"1\" class=\"dataframe\">\n",
       "  <thead>\n",
       "    <tr style=\"text-align: right;\">\n",
       "      <th></th>\n",
       "      <th>Unnamed: 0</th>\n",
       "      <th>Date</th>\n",
       "      <th>Open</th>\n",
       "      <th>High</th>\n",
       "      <th>Low</th>\n",
       "      <th>Close</th>\n",
       "      <th>Adj Close</th>\n",
       "      <th>Volume</th>\n",
       "      <th>Stock</th>\n",
       "      <th>% Change</th>\n",
       "      <th>...</th>\n",
       "      <th>DBC_Max_200</th>\n",
       "      <th>DBC_Min_200</th>\n",
       "      <th>DBC_Mean_200</th>\n",
       "      <th>DBCV_Max_200</th>\n",
       "      <th>DBCV_Min_200</th>\n",
       "      <th>DBCV_Mean_200</th>\n",
       "      <th>Avg_Gain_200</th>\n",
       "      <th>Avg_Loss_200</th>\n",
       "      <th>RS_200</th>\n",
       "      <th>Add_RSI_200</th>\n",
       "    </tr>\n",
       "  </thead>\n",
       "  <tbody>\n",
       "    <tr>\n",
       "      <th>0</th>\n",
       "      <td>0</td>\n",
       "      <td>7/12/2005</td>\n",
       "      <td>13.18</td>\n",
       "      <td>14.00</td>\n",
       "      <td>12.00</td>\n",
       "      <td>12.17</td>\n",
       "      <td>8.089035</td>\n",
       "      <td>244941515.0</td>\n",
       "      <td>YESBANK.NS</td>\n",
       "      <td>0.000000</td>\n",
       "      <td>...</td>\n",
       "      <td>0.0</td>\n",
       "      <td>0.0</td>\n",
       "      <td>0.0</td>\n",
       "      <td>0.0</td>\n",
       "      <td>0.0</td>\n",
       "      <td>0.0</td>\n",
       "      <td>0.0</td>\n",
       "      <td>0.0</td>\n",
       "      <td>0.0</td>\n",
       "      <td>0.0</td>\n",
       "    </tr>\n",
       "    <tr>\n",
       "      <th>1</th>\n",
       "      <td>1</td>\n",
       "      <td>7/13/2005</td>\n",
       "      <td>12.20</td>\n",
       "      <td>12.60</td>\n",
       "      <td>11.49</td>\n",
       "      <td>11.74</td>\n",
       "      <td>7.803226</td>\n",
       "      <td>64111620.0</td>\n",
       "      <td>YESBANK.NS</td>\n",
       "      <td>-3.533279</td>\n",
       "      <td>...</td>\n",
       "      <td>0.0</td>\n",
       "      <td>0.0</td>\n",
       "      <td>0.0</td>\n",
       "      <td>0.0</td>\n",
       "      <td>0.0</td>\n",
       "      <td>0.0</td>\n",
       "      <td>0.0</td>\n",
       "      <td>0.0</td>\n",
       "      <td>0.0</td>\n",
       "      <td>0.0</td>\n",
       "    </tr>\n",
       "    <tr>\n",
       "      <th>2</th>\n",
       "      <td>2</td>\n",
       "      <td>7/14/2005</td>\n",
       "      <td>12.00</td>\n",
       "      <td>12.00</td>\n",
       "      <td>11.40</td>\n",
       "      <td>11.45</td>\n",
       "      <td>7.610473</td>\n",
       "      <td>16282865.0</td>\n",
       "      <td>YESBANK.NS</td>\n",
       "      <td>-2.470187</td>\n",
       "      <td>...</td>\n",
       "      <td>0.0</td>\n",
       "      <td>0.0</td>\n",
       "      <td>0.0</td>\n",
       "      <td>0.0</td>\n",
       "      <td>0.0</td>\n",
       "      <td>0.0</td>\n",
       "      <td>0.0</td>\n",
       "      <td>0.0</td>\n",
       "      <td>0.0</td>\n",
       "      <td>0.0</td>\n",
       "    </tr>\n",
       "    <tr>\n",
       "      <th>3</th>\n",
       "      <td>3</td>\n",
       "      <td>7/15/2005</td>\n",
       "      <td>11.25</td>\n",
       "      <td>12.89</td>\n",
       "      <td>11.25</td>\n",
       "      <td>12.37</td>\n",
       "      <td>8.221969</td>\n",
       "      <td>75448030.0</td>\n",
       "      <td>YESBANK.NS</td>\n",
       "      <td>8.034934</td>\n",
       "      <td>...</td>\n",
       "      <td>0.0</td>\n",
       "      <td>0.0</td>\n",
       "      <td>0.0</td>\n",
       "      <td>0.0</td>\n",
       "      <td>0.0</td>\n",
       "      <td>0.0</td>\n",
       "      <td>0.0</td>\n",
       "      <td>0.0</td>\n",
       "      <td>0.0</td>\n",
       "      <td>0.0</td>\n",
       "    </tr>\n",
       "    <tr>\n",
       "      <th>4</th>\n",
       "      <td>4</td>\n",
       "      <td>7/18/2005</td>\n",
       "      <td>12.54</td>\n",
       "      <td>13.14</td>\n",
       "      <td>12.50</td>\n",
       "      <td>12.82</td>\n",
       "      <td>8.521070</td>\n",
       "      <td>75684775.0</td>\n",
       "      <td>YESBANK.NS</td>\n",
       "      <td>3.637833</td>\n",
       "      <td>...</td>\n",
       "      <td>0.0</td>\n",
       "      <td>0.0</td>\n",
       "      <td>0.0</td>\n",
       "      <td>0.0</td>\n",
       "      <td>0.0</td>\n",
       "      <td>0.0</td>\n",
       "      <td>0.0</td>\n",
       "      <td>0.0</td>\n",
       "      <td>0.0</td>\n",
       "      <td>0.0</td>\n",
       "    </tr>\n",
       "  </tbody>\n",
       "</table>\n",
       "<p>5 rows × 201 columns</p>\n",
       "</div>"
      ],
      "text/plain": [
       "   Unnamed: 0       Date   Open   High    Low  Close  Adj Close       Volume  \\\n",
       "0           0  7/12/2005  13.18  14.00  12.00  12.17   8.089035  244941515.0   \n",
       "1           1  7/13/2005  12.20  12.60  11.49  11.74   7.803226   64111620.0   \n",
       "2           2  7/14/2005  12.00  12.00  11.40  11.45   7.610473   16282865.0   \n",
       "3           3  7/15/2005  11.25  12.89  11.25  12.37   8.221969   75448030.0   \n",
       "4           4  7/18/2005  12.54  13.14  12.50  12.82   8.521070   75684775.0   \n",
       "\n",
       "        Stock  % Change     ...       DBC_Max_200  DBC_Min_200  DBC_Mean_200  \\\n",
       "0  YESBANK.NS  0.000000     ...               0.0          0.0           0.0   \n",
       "1  YESBANK.NS -3.533279     ...               0.0          0.0           0.0   \n",
       "2  YESBANK.NS -2.470187     ...               0.0          0.0           0.0   \n",
       "3  YESBANK.NS  8.034934     ...               0.0          0.0           0.0   \n",
       "4  YESBANK.NS  3.637833     ...               0.0          0.0           0.0   \n",
       "\n",
       "   DBCV_Max_200  DBCV_Min_200  DBCV_Mean_200  Avg_Gain_200  Avg_Loss_200  \\\n",
       "0           0.0           0.0            0.0           0.0           0.0   \n",
       "1           0.0           0.0            0.0           0.0           0.0   \n",
       "2           0.0           0.0            0.0           0.0           0.0   \n",
       "3           0.0           0.0            0.0           0.0           0.0   \n",
       "4           0.0           0.0            0.0           0.0           0.0   \n",
       "\n",
       "   RS_200  Add_RSI_200  \n",
       "0     0.0          0.0  \n",
       "1     0.0          0.0  \n",
       "2     0.0          0.0  \n",
       "3     0.0          0.0  \n",
       "4     0.0          0.0  \n",
       "\n",
       "[5 rows x 201 columns]"
      ]
     },
     "execution_count": 67,
     "metadata": {},
     "output_type": "execute_result"
    }
   ],
   "source": [
    "stock_data.head()"
   ]
  },
  {
   "cell_type": "code",
   "execution_count": 68,
   "metadata": {
    "collapsed": true
   },
   "outputs": [],
   "source": [
    "attr_cols = (stock_data.columns).tolist()"
   ]
  },
  {
   "cell_type": "code",
   "execution_count": 69,
   "metadata": {},
   "outputs": [
    {
     "data": {
      "text/plain": [
       "['Unnamed: 0',\n",
       " 'Date',\n",
       " 'Open',\n",
       " 'High',\n",
       " 'Low',\n",
       " 'Close',\n",
       " 'Adj Close',\n",
       " 'Volume',\n",
       " 'Stock',\n",
       " '% Change',\n",
       " '% V_Change',\n",
       " '% Change Open',\n",
       " 'Add_V_Spike',\n",
       " 'Add_CTrend',\n",
       " 'Add_OTrend',\n",
       " 'Gain',\n",
       " 'Loss',\n",
       " 'RB_Mean_10',\n",
       " 'RB_V_Mean_10',\n",
       " 'Roll_C_10',\n",
       " 'Roll_VC_10',\n",
       " 'DF_C_10',\n",
       " 'DF_VC_10',\n",
       " 'DF_Signal_Buy_10',\n",
       " 'DF_Signal_Sell_10',\n",
       " 'DF_V_Signal_10',\n",
       " 'DB_Max_10',\n",
       " 'DB_Min_10',\n",
       " 'DB_VMax_10',\n",
       " 'DB_VMin_10',\n",
       " 'DBC_Max_10',\n",
       " 'DBC_Min_10',\n",
       " 'DBC_Mean_10',\n",
       " 'DBCV_Max_10',\n",
       " 'DBCV_Min_10',\n",
       " 'DBCV_Mean_10',\n",
       " 'Avg_Gain_10',\n",
       " 'Avg_Loss_10',\n",
       " 'RS_10',\n",
       " 'Add_RSI_10',\n",
       " 'RB_Mean_15',\n",
       " 'RB_V_Mean_15',\n",
       " 'Roll_C_15',\n",
       " 'Roll_VC_15',\n",
       " 'DF_C_15',\n",
       " 'DF_VC_15',\n",
       " 'DF_Signal_Buy_15',\n",
       " 'DF_Signal_Sell_15',\n",
       " 'DF_V_Signal_15',\n",
       " 'DB_Max_15',\n",
       " 'DB_Min_15',\n",
       " 'DB_VMax_15',\n",
       " 'DB_VMin_15',\n",
       " 'DBC_Max_15',\n",
       " 'DBC_Min_15',\n",
       " 'DBC_Mean_15',\n",
       " 'DBCV_Max_15',\n",
       " 'DBCV_Min_15',\n",
       " 'DBCV_Mean_15',\n",
       " 'Avg_Gain_15',\n",
       " 'Avg_Loss_15',\n",
       " 'RS_15',\n",
       " 'Add_RSI_15',\n",
       " 'RB_Mean_20',\n",
       " 'RB_V_Mean_20',\n",
       " 'Roll_C_20',\n",
       " 'Roll_VC_20',\n",
       " 'DF_C_20',\n",
       " 'DF_VC_20',\n",
       " 'DF_Signal_Buy_20',\n",
       " 'DF_Signal_Sell_20',\n",
       " 'DF_V_Signal_20',\n",
       " 'DB_Max_20',\n",
       " 'DB_Min_20',\n",
       " 'DB_VMax_20',\n",
       " 'DB_VMin_20',\n",
       " 'DBC_Max_20',\n",
       " 'DBC_Min_20',\n",
       " 'DBC_Mean_20',\n",
       " 'DBCV_Max_20',\n",
       " 'DBCV_Min_20',\n",
       " 'DBCV_Mean_20',\n",
       " 'Avg_Gain_20',\n",
       " 'Avg_Loss_20',\n",
       " 'RS_20',\n",
       " 'Add_RSI_20',\n",
       " 'RB_Mean_25',\n",
       " 'RB_V_Mean_25',\n",
       " 'Roll_C_25',\n",
       " 'Roll_VC_25',\n",
       " 'DF_C_25',\n",
       " 'DF_VC_25',\n",
       " 'DF_Signal_Buy_25',\n",
       " 'DF_Signal_Sell_25',\n",
       " 'DF_V_Signal_25',\n",
       " 'DB_Max_25',\n",
       " 'DB_Min_25',\n",
       " 'DB_VMax_25',\n",
       " 'DB_VMin_25',\n",
       " 'DBC_Max_25',\n",
       " 'DBC_Min_25',\n",
       " 'DBC_Mean_25',\n",
       " 'DBCV_Max_25',\n",
       " 'DBCV_Min_25',\n",
       " 'DBCV_Mean_25',\n",
       " 'Avg_Gain_25',\n",
       " 'Avg_Loss_25',\n",
       " 'RS_25',\n",
       " 'Add_RSI_25',\n",
       " 'RB_Mean_30',\n",
       " 'RB_V_Mean_30',\n",
       " 'Roll_C_30',\n",
       " 'Roll_VC_30',\n",
       " 'DF_C_30',\n",
       " 'DF_VC_30',\n",
       " 'DF_Signal_Buy_30',\n",
       " 'DF_Signal_Sell_30',\n",
       " 'DF_V_Signal_30',\n",
       " 'DB_Max_30',\n",
       " 'DB_Min_30',\n",
       " 'DB_VMax_30',\n",
       " 'DB_VMin_30',\n",
       " 'DBC_Max_30',\n",
       " 'DBC_Min_30',\n",
       " 'DBC_Mean_30',\n",
       " 'DBCV_Max_30',\n",
       " 'DBCV_Min_30',\n",
       " 'DBCV_Mean_30',\n",
       " 'Avg_Gain_30',\n",
       " 'Avg_Loss_30',\n",
       " 'RS_30',\n",
       " 'Add_RSI_30',\n",
       " 'RB_Mean_50',\n",
       " 'RB_V_Mean_50',\n",
       " 'Roll_C_50',\n",
       " 'Roll_VC_50',\n",
       " 'DF_C_50',\n",
       " 'DF_VC_50',\n",
       " 'DF_Signal_Buy_50',\n",
       " 'DF_Signal_Sell_50',\n",
       " 'DF_V_Signal_50',\n",
       " 'DB_Max_50',\n",
       " 'DB_Min_50',\n",
       " 'DB_VMax_50',\n",
       " 'DB_VMin_50',\n",
       " 'DBC_Max_50',\n",
       " 'DBC_Min_50',\n",
       " 'DBC_Mean_50',\n",
       " 'DBCV_Max_50',\n",
       " 'DBCV_Min_50',\n",
       " 'DBCV_Mean_50',\n",
       " 'Avg_Gain_50',\n",
       " 'Avg_Loss_50',\n",
       " 'RS_50',\n",
       " 'Add_RSI_50',\n",
       " 'RB_Mean_150',\n",
       " 'RB_V_Mean_150',\n",
       " 'Roll_C_150',\n",
       " 'Roll_VC_150',\n",
       " 'DF_C_150',\n",
       " 'DF_VC_150',\n",
       " 'DF_Signal_Buy_150',\n",
       " 'DF_Signal_Sell_150',\n",
       " 'DF_V_Signal_150',\n",
       " 'DB_Max_150',\n",
       " 'DB_Min_150',\n",
       " 'DB_VMax_150',\n",
       " 'DB_VMin_150',\n",
       " 'DBC_Max_150',\n",
       " 'DBC_Min_150',\n",
       " 'DBC_Mean_150',\n",
       " 'DBCV_Max_150',\n",
       " 'DBCV_Min_150',\n",
       " 'DBCV_Mean_150',\n",
       " 'Avg_Gain_150',\n",
       " 'Avg_Loss_150',\n",
       " 'RS_150',\n",
       " 'Add_RSI_150',\n",
       " 'RB_Mean_200',\n",
       " 'RB_V_Mean_200',\n",
       " 'Roll_C_200',\n",
       " 'Roll_VC_200',\n",
       " 'DF_C_200',\n",
       " 'DF_VC_200',\n",
       " 'DF_Signal_Buy_200',\n",
       " 'DF_Signal_Sell_200',\n",
       " 'DF_V_Signal_200',\n",
       " 'DB_Max_200',\n",
       " 'DB_Min_200',\n",
       " 'DB_VMax_200',\n",
       " 'DB_VMin_200',\n",
       " 'DBC_Max_200',\n",
       " 'DBC_Min_200',\n",
       " 'DBC_Mean_200',\n",
       " 'DBCV_Max_200',\n",
       " 'DBCV_Min_200',\n",
       " 'DBCV_Mean_200',\n",
       " 'Avg_Gain_200',\n",
       " 'Avg_Loss_200',\n",
       " 'RS_200',\n",
       " 'Add_RSI_200']"
      ]
     },
     "execution_count": 69,
     "metadata": {},
     "output_type": "execute_result"
    }
   ],
   "source": [
    "attr_cols"
   ]
  },
  {
   "cell_type": "code",
   "execution_count": 70,
   "metadata": {
    "collapsed": true
   },
   "outputs": [],
   "source": [
    "feature_cols = []\n",
    "signal_cols = []\n",
    "for i in attr_cols:\n",
    "    attr_list=[]\n",
    "    attr_list = i.split('_')\n",
    "    if 'RBC' in attr_list or 'DBC' in attr_list or 'RBCV' in attr_list or 'DBCV' in attr_list  or 'Add' in attr_list:\n",
    "        feature_cols.append(i)\n",
    "    if 'Signal' in attr_list:\n",
    "        signal_cols.append(i)"
   ]
  },
  {
   "cell_type": "code",
   "execution_count": 71,
   "metadata": {
    "collapsed": true
   },
   "outputs": [],
   "source": [
    "target = stock_data['DF_Signal_Buy_200']\n",
    "target = target[200:]"
   ]
  },
  {
   "cell_type": "code",
   "execution_count": 72,
   "metadata": {
    "collapsed": true
   },
   "outputs": [],
   "source": [
    "#features = stock_data[['% Change', '% V_Change', \n",
    "#        'Roll_Change_30', 'Roll_VChange_30', 'DB_CMax_30', 'DB_CMin_30', 'DB_CMean_30', 'DB_CVMax_30', 'DB_CVMin_30', 'DB_CVMean_30', \n",
    "#        'Roll_Change_50', 'Roll_VChange_50', 'DB_CMax_50', 'DB_CMin_50', 'DB_CMean_50', 'DB_CVMax_50', 'DB_CVMin_50', 'DB_CVMean_50', \n",
    "#       'Roll_Change_150', 'Roll_VChange_150', 'DB_CMax_150', 'DB_CMin_150', 'DB_CMean_150', 'DB_CVMax_150', 'DB_CVMin_150', 'DB_CVMean_150',\n",
    "#       'Roll_Change_200', 'Roll_VChange_200', 'DB_CMax_200', 'DB_CMin_200', 'DB_CMean_200', 'DB_CVMax_200', 'DB_CVMin_200', 'DB_CVMean_200']]"
   ]
  },
  {
   "cell_type": "code",
   "execution_count": 73,
   "metadata": {
    "collapsed": true
   },
   "outputs": [],
   "source": [
    "#features = stock_data[['% Change',  \n",
    "#        'Roll_Change_30', 'DB_CMax_30', 'DB_CMin_30', 'DB_CMean_30', 'DB_CVMean_30', \n",
    "#        'Roll_Change_50', 'DB_CMax_50', 'DB_CMin_50', 'DB_CMean_50',  'DB_CVMean_50',\n",
    "#        'Roll_Change_150', 'DB_CMax_150', 'DB_CMin_150', 'DB_CMean_150', 'DB_CVMean_150',\n",
    "#        'Roll_Change_200', 'DB_CMax_200', 'DB_CMin_200', 'DB_CMean_200', 'DB_CVMean_200']]"
   ]
  },
  {
   "cell_type": "code",
   "execution_count": 74,
   "metadata": {},
   "outputs": [
    {
     "data": {
      "text/plain": [
       "Add_V_Spike          0.000000\n",
       "Add_CTrend           1.000000\n",
       "Add_OTrend           1.000000\n",
       "DBC_Max_10           0.000000\n",
       "DBC_Min_10          16.151755\n",
       "DBC_Mean_10         -5.006997\n",
       "DBCV_Max_10        356.791705\n",
       "DBCV_Min_10          0.000000\n",
       "DBCV_Mean_10       128.874057\n",
       "Add_RSI_10         106.708014\n",
       "DBC_Max_15           0.000000\n",
       "DBC_Min_15          16.151755\n",
       "DBC_Mean_15         -6.735105\n",
       "DBCV_Max_15        356.791705\n",
       "DBCV_Min_15         14.299115\n",
       "DBCV_Mean_15        83.493958\n",
       "Add_RSI_15         200.760289\n",
       "DBC_Max_20           0.000000\n",
       "DBC_Min_20          16.151755\n",
       "DBC_Mean_20         -7.400839\n",
       "DBCV_Max_20        356.791705\n",
       "DBCV_Min_20         14.299115\n",
       "DBCV_Mean_20        67.300529\n",
       "Add_RSI_20         308.137155\n",
       "DBC_Max_25           0.000000\n",
       "DBC_Min_25          16.151755\n",
       "DBC_Mean_25         -7.038730\n",
       "DBCV_Max_25        356.791705\n",
       "DBCV_Min_25         14.299115\n",
       "DBCV_Mean_25        56.766010\n",
       "Add_RSI_25         346.640321\n",
       "DBC_Max_30           0.000000\n",
       "DBC_Min_30          16.467391\n",
       "DBC_Mean_30         -7.249961\n",
       "DBCV_Max_30        356.791705\n",
       "DBCV_Min_30         14.299115\n",
       "DBCV_Mean_30        55.996462\n",
       "Add_RSI_30         197.671949\n",
       "DBC_Max_50           0.000000\n",
       "DBC_Min_50          33.603483\n",
       "DBC_Mean_50        -11.993467\n",
       "DBCV_Max_50        356.791705\n",
       "DBCV_Min_50         14.299115\n",
       "DBCV_Mean_50        49.102360\n",
       "Add_RSI_50         189.737844\n",
       "DBC_Max_150          0.000000\n",
       "DBC_Min_150         70.079365\n",
       "DBC_Mean_150       -26.847099\n",
       "DBCV_Max_150      2322.634950\n",
       "DBCV_Min_150         2.696121\n",
       "DBCV_Mean_150      150.967277\n",
       "Add_RSI_150        240.754774\n",
       "DBC_Max_200          0.000000\n",
       "DBC_Min_200         87.161572\n",
       "DBC_Mean_200       -29.495800\n",
       "DBCV_Max_200     15584.004778\n",
       "DBCV_Min_200         0.416457\n",
       "DBCV_Mean_200      503.594201\n",
       "Add_RSI_200        304.806110\n",
       "Name: 200, dtype: float64"
      ]
     },
     "execution_count": 74,
     "metadata": {},
     "output_type": "execute_result"
    }
   ],
   "source": [
    "features = stock_data[feature_cols]\n",
    "features = features[200:]\n",
    "features.iloc[0]"
   ]
  },
  {
   "cell_type": "code",
   "execution_count": 75,
   "metadata": {},
   "outputs": [
    {
     "data": {
      "text/html": [
       "<div>\n",
       "<style>\n",
       "    .dataframe thead tr:only-child th {\n",
       "        text-align: right;\n",
       "    }\n",
       "\n",
       "    .dataframe thead th {\n",
       "        text-align: left;\n",
       "    }\n",
       "\n",
       "    .dataframe tbody tr th {\n",
       "        vertical-align: top;\n",
       "    }\n",
       "</style>\n",
       "<table border=\"1\" class=\"dataframe\">\n",
       "  <thead>\n",
       "    <tr style=\"text-align: right;\">\n",
       "      <th></th>\n",
       "      <th>Add_V_Spike</th>\n",
       "      <th>Add_CTrend</th>\n",
       "      <th>Add_OTrend</th>\n",
       "      <th>DBC_Max_10</th>\n",
       "      <th>DBC_Min_10</th>\n",
       "      <th>DBC_Mean_10</th>\n",
       "      <th>DBCV_Max_10</th>\n",
       "      <th>DBCV_Min_10</th>\n",
       "      <th>DBCV_Mean_10</th>\n",
       "      <th>Add_RSI_10</th>\n",
       "      <th>...</th>\n",
       "      <th>DBCV_Min_150</th>\n",
       "      <th>DBCV_Mean_150</th>\n",
       "      <th>Add_RSI_150</th>\n",
       "      <th>DBC_Max_200</th>\n",
       "      <th>DBC_Min_200</th>\n",
       "      <th>DBC_Mean_200</th>\n",
       "      <th>DBCV_Max_200</th>\n",
       "      <th>DBCV_Min_200</th>\n",
       "      <th>DBCV_Mean_200</th>\n",
       "      <th>Add_RSI_200</th>\n",
       "    </tr>\n",
       "  </thead>\n",
       "  <tbody>\n",
       "    <tr>\n",
       "      <th>200</th>\n",
       "      <td>0</td>\n",
       "      <td>1</td>\n",
       "      <td>1</td>\n",
       "      <td>0.000000</td>\n",
       "      <td>16.151755</td>\n",
       "      <td>-5.006997</td>\n",
       "      <td>356.791705</td>\n",
       "      <td>0.000000</td>\n",
       "      <td>128.874057</td>\n",
       "      <td>106.708014</td>\n",
       "      <td>...</td>\n",
       "      <td>2.696121</td>\n",
       "      <td>150.967277</td>\n",
       "      <td>240.754774</td>\n",
       "      <td>0.000000</td>\n",
       "      <td>87.161572</td>\n",
       "      <td>-29.495800</td>\n",
       "      <td>15584.004778</td>\n",
       "      <td>0.416457</td>\n",
       "      <td>503.594201</td>\n",
       "      <td>304.806110</td>\n",
       "    </tr>\n",
       "    <tr>\n",
       "      <th>201</th>\n",
       "      <td>0</td>\n",
       "      <td>0</td>\n",
       "      <td>0</td>\n",
       "      <td>2.096236</td>\n",
       "      <td>8.587688</td>\n",
       "      <td>-1.805620</td>\n",
       "      <td>811.618754</td>\n",
       "      <td>0.000000</td>\n",
       "      <td>306.760382</td>\n",
       "      <td>123.278477</td>\n",
       "      <td>...</td>\n",
       "      <td>0.636700</td>\n",
       "      <td>395.105294</td>\n",
       "      <td>259.947675</td>\n",
       "      <td>2.096236</td>\n",
       "      <td>83.318777</td>\n",
       "      <td>-27.797523</td>\n",
       "      <td>31200.552839</td>\n",
       "      <td>0.098348</td>\n",
       "      <td>1040.058551</td>\n",
       "      <td>297.673074</td>\n",
       "    </tr>\n",
       "    <tr>\n",
       "      <th>202</th>\n",
       "      <td>0</td>\n",
       "      <td>1</td>\n",
       "      <td>1</td>\n",
       "      <td>1.228153</td>\n",
       "      <td>6.596168</td>\n",
       "      <td>-1.771373</td>\n",
       "      <td>514.129127</td>\n",
       "      <td>5.313723</td>\n",
       "      <td>156.723718</td>\n",
       "      <td>133.060396</td>\n",
       "      <td>...</td>\n",
       "      <td>1.638611</td>\n",
       "      <td>230.269595</td>\n",
       "      <td>264.128634</td>\n",
       "      <td>1.228153</td>\n",
       "      <td>72.394137</td>\n",
       "      <td>-28.181861</td>\n",
       "      <td>20986.206402</td>\n",
       "      <td>0.253109</td>\n",
       "      <td>657.394856</td>\n",
       "      <td>284.081844</td>\n",
       "    </tr>\n",
       "    <tr>\n",
       "      <th>203</th>\n",
       "      <td>0</td>\n",
       "      <td>0</td>\n",
       "      <td>0</td>\n",
       "      <td>3.777240</td>\n",
       "      <td>3.977840</td>\n",
       "      <td>1.041164</td>\n",
       "      <td>224.916597</td>\n",
       "      <td>16.043408</td>\n",
       "      <td>48.791912</td>\n",
       "      <td>251.786280</td>\n",
       "      <td>...</td>\n",
       "      <td>2.888870</td>\n",
       "      <td>130.882126</td>\n",
       "      <td>291.371447</td>\n",
       "      <td>3.777240</td>\n",
       "      <td>68.159609</td>\n",
       "      <td>-26.172881</td>\n",
       "      <td>14884.295891</td>\n",
       "      <td>0.446230</td>\n",
       "      <td>402.082263</td>\n",
       "      <td>322.897269</td>\n",
       "    </tr>\n",
       "    <tr>\n",
       "      <th>204</th>\n",
       "      <td>0</td>\n",
       "      <td>0</td>\n",
       "      <td>0</td>\n",
       "      <td>6.563893</td>\n",
       "      <td>0.000000</td>\n",
       "      <td>3.878664</td>\n",
       "      <td>203.107219</td>\n",
       "      <td>18.257905</td>\n",
       "      <td>23.273520</td>\n",
       "      <td>619.386814</td>\n",
       "      <td>...</td>\n",
       "      <td>3.199741</td>\n",
       "      <td>113.957221</td>\n",
       "      <td>299.293688</td>\n",
       "      <td>6.563893</td>\n",
       "      <td>63.762223</td>\n",
       "      <td>-24.009203</td>\n",
       "      <td>13878.504965</td>\n",
       "      <td>0.494249</td>\n",
       "      <td>334.594773</td>\n",
       "      <td>356.115078</td>\n",
       "    </tr>\n",
       "  </tbody>\n",
       "</table>\n",
       "<p>5 rows × 59 columns</p>\n",
       "</div>"
      ],
      "text/plain": [
       "     Add_V_Spike  Add_CTrend  Add_OTrend  DBC_Max_10  DBC_Min_10  DBC_Mean_10  \\\n",
       "200            0           1           1    0.000000   16.151755    -5.006997   \n",
       "201            0           0           0    2.096236    8.587688    -1.805620   \n",
       "202            0           1           1    1.228153    6.596168    -1.771373   \n",
       "203            0           0           0    3.777240    3.977840     1.041164   \n",
       "204            0           0           0    6.563893    0.000000     3.878664   \n",
       "\n",
       "     DBCV_Max_10  DBCV_Min_10  DBCV_Mean_10  Add_RSI_10     ...       \\\n",
       "200   356.791705     0.000000    128.874057  106.708014     ...        \n",
       "201   811.618754     0.000000    306.760382  123.278477     ...        \n",
       "202   514.129127     5.313723    156.723718  133.060396     ...        \n",
       "203   224.916597    16.043408     48.791912  251.786280     ...        \n",
       "204   203.107219    18.257905     23.273520  619.386814     ...        \n",
       "\n",
       "     DBCV_Min_150  DBCV_Mean_150  Add_RSI_150  DBC_Max_200  DBC_Min_200  \\\n",
       "200      2.696121     150.967277   240.754774     0.000000    87.161572   \n",
       "201      0.636700     395.105294   259.947675     2.096236    83.318777   \n",
       "202      1.638611     230.269595   264.128634     1.228153    72.394137   \n",
       "203      2.888870     130.882126   291.371447     3.777240    68.159609   \n",
       "204      3.199741     113.957221   299.293688     6.563893    63.762223   \n",
       "\n",
       "     DBC_Mean_200  DBCV_Max_200  DBCV_Min_200  DBCV_Mean_200  Add_RSI_200  \n",
       "200    -29.495800  15584.004778      0.416457     503.594201   304.806110  \n",
       "201    -27.797523  31200.552839      0.098348    1040.058551   297.673074  \n",
       "202    -28.181861  20986.206402      0.253109     657.394856   284.081844  \n",
       "203    -26.172881  14884.295891      0.446230     402.082263   322.897269  \n",
       "204    -24.009203  13878.504965      0.494249     334.594773   356.115078  \n",
       "\n",
       "[5 rows x 59 columns]"
      ]
     },
     "execution_count": 75,
     "metadata": {},
     "output_type": "execute_result"
    }
   ],
   "source": [
    "features.head()"
   ]
  },
  {
   "cell_type": "code",
   "execution_count": 76,
   "metadata": {
    "collapsed": true
   },
   "outputs": [],
   "source": [
    "train_data, test_data, train_target, test_target = train_test_split(features, target, test_size=0.25, random_state=42)"
   ]
  },
  {
   "cell_type": "code",
   "execution_count": 77,
   "metadata": {},
   "outputs": [
    {
     "data": {
      "text/plain": [
       "0"
      ]
     },
     "execution_count": 77,
     "metadata": {},
     "output_type": "execute_result"
    }
   ],
   "source": [
    "train_target.isnull().sum()"
   ]
  },
  {
   "cell_type": "code",
   "execution_count": 78,
   "metadata": {},
   "outputs": [
    {
     "data": {
      "image/png": "[encoded data removed]",
      "text/plain": [
       "<matplotlib.figure.Figure at 0x6126f94390>"
      ]
     },
     "metadata": {},
     "output_type": "display_data"
    }
   ],
   "source": [
    "test_target.hist()\n",
    "plt.show()"
   ]
  },
  {
   "cell_type": "code",
   "execution_count": 79,
   "metadata": {},
   "outputs": [
    {
     "data": {
      "text/html": [
       "<div>\n",
       "<style>\n",
       "    .dataframe thead tr:only-child th {\n",
       "        text-align: right;\n",
       "    }\n",
       "\n",
       "    .dataframe thead th {\n",
       "        text-align: left;\n",
       "    }\n",
       "\n",
       "    .dataframe tbody tr th {\n",
       "        vertical-align: top;\n",
       "    }\n",
       "</style>\n",
       "<table border=\"1\" class=\"dataframe\">\n",
       "  <thead>\n",
       "    <tr style=\"text-align: right;\">\n",
       "      <th></th>\n",
       "      <th>Add_V_Spike</th>\n",
       "      <th>Add_CTrend</th>\n",
       "      <th>Add_OTrend</th>\n",
       "      <th>DBC_Max_10</th>\n",
       "      <th>DBC_Min_10</th>\n",
       "      <th>DBC_Mean_10</th>\n",
       "      <th>DBCV_Max_10</th>\n",
       "      <th>DBCV_Min_10</th>\n",
       "      <th>DBCV_Mean_10</th>\n",
       "      <th>Add_RSI_10</th>\n",
       "      <th>...</th>\n",
       "      <th>DBCV_Min_150</th>\n",
       "      <th>DBCV_Mean_150</th>\n",
       "      <th>Add_RSI_150</th>\n",
       "      <th>DBC_Max_200</th>\n",
       "      <th>DBC_Min_200</th>\n",
       "      <th>DBC_Mean_200</th>\n",
       "      <th>DBCV_Max_200</th>\n",
       "      <th>DBCV_Min_200</th>\n",
       "      <th>DBCV_Mean_200</th>\n",
       "      <th>Add_RSI_200</th>\n",
       "    </tr>\n",
       "  </thead>\n",
       "  <tbody>\n",
       "    <tr>\n",
       "      <th>1129</th>\n",
       "      <td>0</td>\n",
       "      <td>1</td>\n",
       "      <td>1</td>\n",
       "      <td>3.576595</td>\n",
       "      <td>3.976782</td>\n",
       "      <td>-0.975810</td>\n",
       "      <td>127.559077</td>\n",
       "      <td>11.313635</td>\n",
       "      <td>41.808036</td>\n",
       "      <td>-1920.492374</td>\n",
       "      <td>...</td>\n",
       "      <td>8.969861</td>\n",
       "      <td>137.535421</td>\n",
       "      <td>157.456364</td>\n",
       "      <td>335.187108</td>\n",
       "      <td>213.683521</td>\n",
       "      <td>-17.886912</td>\n",
       "      <td>2163.472764</td>\n",
       "      <td>4.417990</td>\n",
       "      <td>193.634169</td>\n",
       "      <td>147.146938</td>\n",
       "    </tr>\n",
       "    <tr>\n",
       "      <th>638</th>\n",
       "      <td>0</td>\n",
       "      <td>0</td>\n",
       "      <td>1</td>\n",
       "      <td>3.660499</td>\n",
       "      <td>6.878764</td>\n",
       "      <td>0.102574</td>\n",
       "      <td>0.000000</td>\n",
       "      <td>71.491916</td>\n",
       "      <td>-37.061459</td>\n",
       "      <td>129.019909</td>\n",
       "      <td>...</td>\n",
       "      <td>26.857598</td>\n",
       "      <td>-23.357530</td>\n",
       "      <td>555.789381</td>\n",
       "      <td>6.898634</td>\n",
       "      <td>69.058147</td>\n",
       "      <td>-19.413216</td>\n",
       "      <td>223.816695</td>\n",
       "      <td>27.499221</td>\n",
       "      <td>-29.296674</td>\n",
       "      <td>414.478574</td>\n",
       "    </tr>\n",
       "    <tr>\n",
       "      <th>1198</th>\n",
       "      <td>0</td>\n",
       "      <td>1</td>\n",
       "      <td>1</td>\n",
       "      <td>0.000000</td>\n",
       "      <td>11.522078</td>\n",
       "      <td>-6.306651</td>\n",
       "      <td>13.130450</td>\n",
       "      <td>66.118033</td>\n",
       "      <td>-38.559127</td>\n",
       "      <td>251.779609</td>\n",
       "      <td>...</td>\n",
       "      <td>36.290560</td>\n",
       "      <td>-33.166813</td>\n",
       "      <td>683.262909</td>\n",
       "      <td>265.514846</td>\n",
       "      <td>97.361206</td>\n",
       "      <td>-15.908144</td>\n",
       "      <td>191.542049</td>\n",
       "      <td>34.300369</td>\n",
       "      <td>-31.926979</td>\n",
       "      <td>167.039107</td>\n",
       "    </tr>\n",
       "    <tr>\n",
       "      <th>1585</th>\n",
       "      <td>0</td>\n",
       "      <td>0</td>\n",
       "      <td>0</td>\n",
       "      <td>16.192908</td>\n",
       "      <td>0.000000</td>\n",
       "      <td>8.882576</td>\n",
       "      <td>57.193564</td>\n",
       "      <td>19.036555</td>\n",
       "      <td>15.403354</td>\n",
       "      <td>-20.533339</td>\n",
       "      <td>...</td>\n",
       "      <td>12.699887</td>\n",
       "      <td>-0.789240</td>\n",
       "      <td>-1340.296935</td>\n",
       "      <td>30.758674</td>\n",
       "      <td>3.657791</td>\n",
       "      <td>14.505199</td>\n",
       "      <td>356.546162</td>\n",
       "      <td>14.908836</td>\n",
       "      <td>1.130401</td>\n",
       "      <td>18072.223574</td>\n",
       "    </tr>\n",
       "    <tr>\n",
       "      <th>2607</th>\n",
       "      <td>0</td>\n",
       "      <td>1</td>\n",
       "      <td>0</td>\n",
       "      <td>6.760924</td>\n",
       "      <td>1.959551</td>\n",
       "      <td>3.565788</td>\n",
       "      <td>148.205276</td>\n",
       "      <td>12.128285</td>\n",
       "      <td>15.923321</td>\n",
       "      <td>-423.538982</td>\n",
       "      <td>...</td>\n",
       "      <td>19.857657</td>\n",
       "      <td>-19.281336</td>\n",
       "      <td>-970.318178</td>\n",
       "      <td>21.120190</td>\n",
       "      <td>15.682071</td>\n",
       "      <td>5.322155</td>\n",
       "      <td>290.810684</td>\n",
       "      <td>19.857657</td>\n",
       "      <td>-24.634452</td>\n",
       "      <td>-2367.667069</td>\n",
       "    </tr>\n",
       "  </tbody>\n",
       "</table>\n",
       "<p>5 rows × 59 columns</p>\n",
       "</div>"
      ],
      "text/plain": [
       "      Add_V_Spike  Add_CTrend  Add_OTrend  DBC_Max_10  DBC_Min_10  \\\n",
       "1129            0           1           1    3.576595    3.976782   \n",
       "638             0           0           1    3.660499    6.878764   \n",
       "1198            0           1           1    0.000000   11.522078   \n",
       "1585            0           0           0   16.192908    0.000000   \n",
       "2607            0           1           0    6.760924    1.959551   \n",
       "\n",
       "      DBC_Mean_10  DBCV_Max_10  DBCV_Min_10  DBCV_Mean_10   Add_RSI_10  \\\n",
       "1129    -0.975810   127.559077    11.313635     41.808036 -1920.492374   \n",
       "638      0.102574     0.000000    71.491916    -37.061459   129.019909   \n",
       "1198    -6.306651    13.130450    66.118033    -38.559127   251.779609   \n",
       "1585     8.882576    57.193564    19.036555     15.403354   -20.533339   \n",
       "2607     3.565788   148.205276    12.128285     15.923321  -423.538982   \n",
       "\n",
       "          ...       DBCV_Min_150  DBCV_Mean_150  Add_RSI_150  DBC_Max_200  \\\n",
       "1129      ...           8.969861     137.535421   157.456364   335.187108   \n",
       "638       ...          26.857598     -23.357530   555.789381     6.898634   \n",
       "1198      ...          36.290560     -33.166813   683.262909   265.514846   \n",
       "1585      ...          12.699887      -0.789240 -1340.296935    30.758674   \n",
       "2607      ...          19.857657     -19.281336  -970.318178    21.120190   \n",
       "\n",
       "      DBC_Min_200  DBC_Mean_200  DBCV_Max_200  DBCV_Min_200  DBCV_Mean_200  \\\n",
       "1129   213.683521    -17.886912   2163.472764      4.417990     193.634169   \n",
       "638     69.058147    -19.413216    223.816695     27.499221     -29.296674   \n",
       "1198    97.361206    -15.908144    191.542049     34.300369     -31.926979   \n",
       "1585     3.657791     14.505199    356.546162     14.908836       1.130401   \n",
       "2607    15.682071      5.322155    290.810684     19.857657     -24.634452   \n",
       "\n",
       "       Add_RSI_200  \n",
       "1129    147.146938  \n",
       "638     414.478574  \n",
       "1198    167.039107  \n",
       "1585  18072.223574  \n",
       "2607  -2367.667069  \n",
       "\n",
       "[5 rows x 59 columns]"
      ]
     },
     "execution_count": 79,
     "metadata": {},
     "output_type": "execute_result"
    }
   ],
   "source": [
    "train_data[0:5]"
   ]
  },
  {
   "cell_type": "code",
   "execution_count": 80,
   "metadata": {
    "collapsed": true
   },
   "outputs": [],
   "source": [
    "from sklearn.preprocessing import normalize\n",
    "train_data = normalize(train_data)\n",
    "#train_target = normalize(train_target)\n",
    "test_data = normalize(test_data)\n",
    "#test_target = normalize(test_target)"
   ]
  },
  {
   "cell_type": "code",
   "execution_count": 81,
   "metadata": {},
   "outputs": [
    {
     "data": {
      "text/plain": [
       "LogisticRegression(C=1.0, class_weight=None, dual=False, fit_intercept=True,\n",
       "          intercept_scaling=1, max_iter=1000, multi_class='ovr', n_jobs=1,\n",
       "          penalty='l1', random_state=None, solver='liblinear', tol=1e-12,\n",
       "          verbose=0, warm_start=False)"
      ]
     },
     "execution_count": 81,
     "metadata": {},
     "output_type": "execute_result"
    }
   ],
   "source": [
    "import sklearn as sk\n",
    "from sklearn.linear_model import LogisticRegression\n",
    "model = sk.linear_model.LogisticRegression(penalty='l1',max_iter=1000,tol=1e-12)\n",
    "#model.fit(train_data.as_matrix(),train_target.as_matrix())\n",
    "model.fit(train_data,train_target)"
   ]
  },
  {
   "cell_type": "code",
   "execution_count": 82,
   "metadata": {},
   "outputs": [
    {
     "data": {
      "text/plain": [
       "array([[  0.        ,   0.        ,   0.        ,   0.        ,\n",
       "          0.        ,   0.        ,   0.        ,   0.        ,\n",
       "          0.        ,   0.06161337,   0.        ,   0.        ,\n",
       "          0.        ,   0.        ,   0.        ,   0.        ,\n",
       "         -0.50621278,   0.        ,   0.        ,   0.        ,\n",
       "          0.        ,   0.        ,   0.        ,   0.36729974,\n",
       "          0.        ,   0.        ,   0.        ,  -1.66735311,\n",
       "          0.        ,   0.        ,   0.        ,   0.        ,\n",
       "          0.        ,   0.        ,  -1.99128312,   0.        ,\n",
       "         16.18911273,   0.33394148,  -3.74449621,   0.        ,\n",
       "          0.        ,  -4.14573895,   0.        ,   0.        ,\n",
       "          0.36293811,   0.        ,  -2.1196932 ,   0.        ,\n",
       "          1.69475405,   0.        ,   0.        ,   0.63647185,\n",
       "         -4.95498763,   0.        ,   0.        ,   2.53371793,\n",
       "          0.        , -20.3891397 ,   0.22373447]])"
      ]
     },
     "execution_count": 82,
     "metadata": {},
     "output_type": "execute_result"
    }
   ],
   "source": [
    "model.coef_"
   ]
  },
  {
   "cell_type": "code",
   "execution_count": 83,
   "metadata": {},
   "outputs": [
    {
     "data": {
      "text/plain": [
       "Index(['Add_V_Spike', 'Add_CTrend', 'Add_OTrend', 'DBC_Max_10', 'DBC_Min_10',\n",
       "       'DBC_Mean_10', 'DBCV_Max_10', 'DBCV_Min_10', 'DBCV_Mean_10',\n",
       "       'Add_RSI_10', 'DBC_Max_15', 'DBC_Min_15', 'DBC_Mean_15', 'DBCV_Max_15',\n",
       "       'DBCV_Min_15', 'DBCV_Mean_15', 'Add_RSI_15', 'DBC_Max_20', 'DBC_Min_20',\n",
       "       'DBC_Mean_20', 'DBCV_Max_20', 'DBCV_Min_20', 'DBCV_Mean_20',\n",
       "       'Add_RSI_20', 'DBC_Max_25', 'DBC_Min_25', 'DBC_Mean_25', 'DBCV_Max_25',\n",
       "       'DBCV_Min_25', 'DBCV_Mean_25', 'Add_RSI_25', 'DBC_Max_30', 'DBC_Min_30',\n",
       "       'DBC_Mean_30', 'DBCV_Max_30', 'DBCV_Min_30', 'DBCV_Mean_30',\n",
       "       'Add_RSI_30', 'DBC_Max_50', 'DBC_Min_50', 'DBC_Mean_50', 'DBCV_Max_50',\n",
       "       'DBCV_Min_50', 'DBCV_Mean_50', 'Add_RSI_50', 'DBC_Max_150',\n",
       "       'DBC_Min_150', 'DBC_Mean_150', 'DBCV_Max_150', 'DBCV_Min_150',\n",
       "       'DBCV_Mean_150', 'Add_RSI_150', 'DBC_Max_200', 'DBC_Min_200',\n",
       "       'DBC_Mean_200', 'DBCV_Max_200', 'DBCV_Min_200', 'DBCV_Mean_200',\n",
       "       'Add_RSI_200'],\n",
       "      dtype='object')"
      ]
     },
     "execution_count": 83,
     "metadata": {},
     "output_type": "execute_result"
    }
   ],
   "source": [
    "features_columns = features.columns\n",
    "features_columns"
   ]
  },
  {
   "cell_type": "code",
   "execution_count": 84,
   "metadata": {},
   "outputs": [
    {
     "name": "stdout",
     "output_type": "stream",
     "text": [
      "{'Add_V_Spike': 0.0, 'Add_CTrend': 0.0, 'Add_OTrend': 0.0, 'DBC_Max_10': 0.0, 'DBC_Min_10': 0.0, 'DBC_Mean_10': 0.0, 'DBCV_Max_10': 0.0, 'DBCV_Min_10': 0.0, 'DBCV_Mean_10': 0.0, 'Add_RSI_10': 0.061613368369431001, 'DBC_Max_15': 0.0, 'DBC_Min_15': 0.0, 'DBC_Mean_15': 0.0, 'DBCV_Max_15': 0.0, 'DBCV_Min_15': 0.0, 'DBCV_Mean_15': 0.0, 'Add_RSI_15': -0.5062127781071738, 'DBC_Max_20': 0.0, 'DBC_Min_20': 0.0, 'DBC_Mean_20': 0.0, 'DBCV_Max_20': 0.0, 'DBCV_Min_20': 0.0, 'DBCV_Mean_20': 0.0, 'Add_RSI_20': 0.36729974357115314, 'DBC_Max_25': 0.0, 'DBC_Min_25': 0.0, 'DBC_Mean_25': 0.0, 'DBCV_Max_25': -1.6673531072420198, 'DBCV_Min_25': 0.0, 'DBCV_Mean_25': 0.0, 'Add_RSI_25': 0.0, 'DBC_Max_30': 0.0, 'DBC_Min_30': 0.0, 'DBC_Mean_30': 0.0, 'DBCV_Max_30': -1.9912831195507139, 'DBCV_Min_30': 0.0, 'DBCV_Mean_30': 16.189112725564037, 'Add_RSI_30': 0.33394148369338789, 'DBC_Max_50': -3.7444962143761091, 'DBC_Min_50': 0.0, 'DBC_Mean_50': 0.0, 'DBCV_Max_50': -4.1457389476079713, 'DBCV_Min_50': 0.0, 'DBCV_Mean_50': 0.0, 'Add_RSI_50': 0.36293811409702925, 'DBC_Max_150': 0.0, 'DBC_Min_150': -2.1196931996081863, 'DBC_Mean_150': 0.0, 'DBCV_Max_150': 1.6947540473694314, 'DBCV_Min_150': 0.0, 'DBCV_Mean_150': 0.0, 'Add_RSI_150': 0.63647184682773894, 'DBC_Max_200': -4.9549876265049271, 'DBC_Min_200': 0.0, 'DBC_Mean_200': 0.0, 'DBCV_Max_200': 2.5337179333617796, 'DBCV_Min_200': 0.0, 'DBCV_Mean_200': -20.389139696619598, 'Add_RSI_200': 0.22373447465518481}\n"
     ]
    }
   ],
   "source": [
    "map_coeff_columns = dict()\n",
    "for i in range(len(features_columns)):\n",
    "    map_coeff_columns[features_columns[i]] = model.coef_[0][i]\n",
    "print (map_coeff_columns)"
   ]
  },
  {
   "cell_type": "code",
   "execution_count": 85,
   "metadata": {},
   "outputs": [
    {
     "data": {
      "text/plain": [
       "[('DBCV_Mean_30', 16.189112725564037),\n",
       " ('DBCV_Max_200', 2.5337179333617796),\n",
       " ('DBCV_Max_150', 1.6947540473694314),\n",
       " ('Add_RSI_150', 0.63647184682773894),\n",
       " ('Add_RSI_20', 0.36729974357115314),\n",
       " ('Add_RSI_50', 0.36293811409702925),\n",
       " ('Add_RSI_30', 0.33394148369338789),\n",
       " ('Add_RSI_200', 0.22373447465518481),\n",
       " ('Add_RSI_10', 0.061613368369431001),\n",
       " ('Add_V_Spike', 0.0),\n",
       " ('Add_CTrend', 0.0),\n",
       " ('Add_OTrend', 0.0),\n",
       " ('DBC_Max_10', 0.0),\n",
       " ('DBC_Min_10', 0.0),\n",
       " ('DBC_Mean_10', 0.0),\n",
       " ('DBCV_Max_10', 0.0),\n",
       " ('DBCV_Min_10', 0.0),\n",
       " ('DBCV_Mean_10', 0.0),\n",
       " ('DBC_Max_15', 0.0),\n",
       " ('DBC_Min_15', 0.0),\n",
       " ('DBC_Mean_15', 0.0),\n",
       " ('DBCV_Max_15', 0.0),\n",
       " ('DBCV_Min_15', 0.0),\n",
       " ('DBCV_Mean_15', 0.0),\n",
       " ('DBC_Max_20', 0.0),\n",
       " ('DBC_Min_20', 0.0),\n",
       " ('DBC_Mean_20', 0.0),\n",
       " ('DBCV_Max_20', 0.0),\n",
       " ('DBCV_Min_20', 0.0),\n",
       " ('DBCV_Mean_20', 0.0),\n",
       " ('DBC_Max_25', 0.0),\n",
       " ('DBC_Min_25', 0.0),\n",
       " ('DBC_Mean_25', 0.0),\n",
       " ('DBCV_Min_25', 0.0),\n",
       " ('DBCV_Mean_25', 0.0),\n",
       " ('Add_RSI_25', 0.0),\n",
       " ('DBC_Max_30', 0.0),\n",
       " ('DBC_Min_30', 0.0),\n",
       " ('DBC_Mean_30', 0.0),\n",
       " ('DBCV_Min_30', 0.0),\n",
       " ('DBC_Min_50', 0.0),\n",
       " ('DBC_Mean_50', 0.0),\n",
       " ('DBCV_Min_50', 0.0),\n",
       " ('DBCV_Mean_50', 0.0),\n",
       " ('DBC_Max_150', 0.0),\n",
       " ('DBC_Mean_150', 0.0),\n",
       " ('DBCV_Min_150', 0.0),\n",
       " ('DBCV_Mean_150', 0.0),\n",
       " ('DBC_Min_200', 0.0),\n",
       " ('DBC_Mean_200', 0.0),\n",
       " ('DBCV_Min_200', 0.0),\n",
       " ('Add_RSI_15', -0.5062127781071738),\n",
       " ('DBCV_Max_25', -1.6673531072420198),\n",
       " ('DBCV_Max_30', -1.9912831195507139),\n",
       " ('DBC_Min_150', -2.1196931996081863),\n",
       " ('DBC_Max_50', -3.7444962143761091),\n",
       " ('DBCV_Max_50', -4.1457389476079713),\n",
       " ('DBC_Max_200', -4.9549876265049271),\n",
       " ('DBCV_Mean_200', -20.389139696619598)]"
      ]
     },
     "execution_count": 85,
     "metadata": {},
     "output_type": "execute_result"
    }
   ],
   "source": [
    "import operator\n",
    "sorted_map_coeff_columns = sorted(map_coeff_columns.items(),key=operator.itemgetter(1),reverse=True)\n",
    "sorted_map_coeff_columns"
   ]
  },
  {
   "cell_type": "code",
   "execution_count": 86,
   "metadata": {},
   "outputs": [
    {
     "name": "stdout",
     "output_type": "stream",
     "text": [
      "Test Accuracy: 0.776520509194\n"
     ]
    }
   ],
   "source": [
    "from sklearn.metrics import accuracy_score\n",
    "#accuracy = accuracy_score(y_true=test_target.as_matrix(), y_pred=model.predict(test_data))\n",
    "accuracy = accuracy_score(y_true=test_target, y_pred=model.predict(test_data))\n",
    "print (\"Test Accuracy: %s\" % accuracy)"
   ]
  },
  {
   "cell_type": "code",
   "execution_count": 87,
   "metadata": {},
   "outputs": [
    {
     "name": "stdout",
     "output_type": "stream",
     "text": [
      "Baseline accuracy (majority class classifier): 0.7340876944837341\n"
     ]
    }
   ],
   "source": [
    "baseline = len(test_target[test_target == 0])/len(test_target)\n",
    "print (\"Baseline accuracy (majority class classifier): %s\" % baseline)"
   ]
  },
  {
   "cell_type": "code",
   "execution_count": 88,
   "metadata": {
    "collapsed": true
   },
   "outputs": [],
   "source": [
    "predicted_signal = model.predict(test_data)"
   ]
  },
  {
   "cell_type": "code",
   "execution_count": 89,
   "metadata": {},
   "outputs": [
    {
     "name": "stdout",
     "output_type": "stream",
     "text": [
      " target_label | predicted_label | count \n",
      "--------------+-----------------+-------\n",
      "      0       |        0        |   500\n",
      "      0       |        1        |    19\n",
      "      1       |        0        |   139\n",
      "      1       |        1        |    49\n"
     ]
    }
   ],
   "source": [
    "from sklearn.metrics import confusion_matrix\n",
    "cmat = confusion_matrix(y_true=test_target.as_matrix(),\n",
    "                        y_pred=model.predict(test_data),\n",
    "                        labels=model.classes_)    # use the same order of class as the LR model.\n",
    "print (' target_label | predicted_label | count ')\n",
    "print ('--------------+-----------------+-------')\n",
    "# Print out the confusion matrix.\n",
    "# NOTE: Your tool may arrange entries in a different order. Consult appropriate manuals.\n",
    "for i, target_label in enumerate(model.classes_):\n",
    "    for j, predicted_label in enumerate(model.classes_):\n",
    "        print ('{0:^13} | {1:^15} | {2:5d}'.format(target_label, predicted_label, cmat[i,j]))"
   ]
  },
  {
   "cell_type": "code",
   "execution_count": 90,
   "metadata": {
    "collapsed": true
   },
   "outputs": [],
   "source": [
    "#precision = model.evaluate(test_data, metric='precision')['precision']\n",
    "#print \"Precision on test data: %s\" % precision\n",
    "\n",
    "#from sklearn.metrics import precision_score\n",
    "#precision = precision_score(y_true=test_target.as_matrix(), \n",
    "#                            y_pred=model.predict(test_data))\n",
    "#print (\"Precision on test data: %s\" % precision)"
   ]
  },
  {
   "cell_type": "code",
   "execution_count": 91,
   "metadata": {
    "collapsed": true
   },
   "outputs": [],
   "source": [
    "#recall = model.evaluate(test_data, metric='recall')['recall']\n",
    "#print \"Recall on test data: %s\" % recall\n",
    "\n",
    "#from sklearn.metrics import recall_score\n",
    "#recall = recall_score(y_true=test_target.as_matrix(),\n",
    "#                      y_pred=model.predict(test_data))\n",
    "#print (\"Recall on test data: %s\" % recall)"
   ]
  },
  {
   "cell_type": "code",
   "execution_count": 92,
   "metadata": {},
   "outputs": [
    {
     "data": {
      "text/plain": [
       "array([[-0.22545347, -1.60025121],\n",
       "       [-0.41414301, -1.08147918],\n",
       "       [-0.24738782, -1.51794325],\n",
       "       ..., \n",
       "       [-0.505374  , -0.9245243 ],\n",
       "       [-0.24039567, -1.54326018],\n",
       "       [-0.15084743, -1.9659621 ]])"
      ]
     },
     "execution_count": 92,
     "metadata": {},
     "output_type": "execute_result"
    }
   ],
   "source": [
    "model.predict_log_proba(train_data)"
   ]
  },
  {
   "cell_type": "code",
   "execution_count": 93,
   "metadata": {},
   "outputs": [
    {
     "data": {
      "text/plain": [
       "array([[ 0.6719639 ,  0.3280361 ],\n",
       "       [ 0.87077648,  0.12922352],\n",
       "       [ 0.71450688,  0.28549312],\n",
       "       ..., \n",
       "       [ 0.46037488,  0.53962512],\n",
       "       [ 0.71690673,  0.28309327],\n",
       "       [ 0.85693309,  0.14306691]])"
      ]
     },
     "execution_count": 93,
     "metadata": {},
     "output_type": "execute_result"
    }
   ],
   "source": [
    "model.predict_proba(test_data)"
   ]
  },
  {
   "cell_type": "code",
   "execution_count": 94,
   "metadata": {
    "collapsed": true
   },
   "outputs": [],
   "source": [
    "def apply_threshold(probabilities, threshold, predicted_signal):\n",
    "    ### YOUR CODE GOES HERE\n",
    "    # +1 if >= threshold and -1 otherwise.\n",
    "    prediction = pd.Series(len(probabilities))\n",
    "    for i in range(len(probabilities)):\n",
    "        if probabilities[i] > threshold:\n",
    "            prediction[i] = predicted_signal[i]\n",
    "        #elif predicted_signal[i] == 0:\n",
    "        #    prediction[i] = 0\n",
    "        #elif predicted_signal[i] == -1:\n",
    "        #    prediction[i] = -1\n",
    "        else:\n",
    "            prediction[i] = 2 # unless strong signal, take no position (buy/sell)\n",
    "    return prediction"
   ]
  },
  {
   "cell_type": "code",
   "execution_count": 95,
   "metadata": {
    "collapsed": true
   },
   "outputs": [],
   "source": [
    "probabilities = model.predict_proba(test_data)[:,1]\n",
    "predictions_with_default_threshold = apply_threshold(probabilities, 0.5, predicted_signal)\n",
    "predictions_with_high_threshold = apply_threshold(probabilities, 0.8, predicted_signal)"
   ]
  },
  {
   "cell_type": "code",
   "execution_count": 96,
   "metadata": {},
   "outputs": [
    {
     "name": "stdout",
     "output_type": "stream",
     "text": [
      " target_label | predicted_label | count \n",
      "--------------+-----------------+-------\n",
      "      0       |        0        |     0\n",
      "      0       |        1        |     0\n",
      "      1       |        0        |     0\n",
      "      1       |        1        |     0\n"
     ]
    }
   ],
   "source": [
    "from sklearn.metrics import confusion_matrix\n",
    "cmat = confusion_matrix(y_true=test_target.as_matrix(),\n",
    "                        y_pred=predictions_with_high_threshold,\n",
    "                        labels=model.classes_)    # use the same order of class as the LR model.\n",
    "print (' target_label | predicted_label | count ')\n",
    "print ('--------------+-----------------+-------')\n",
    "# Print out the confusion matrix.\n",
    "# NOTE: Your tool may arrange entries in a different order. Consult appropriate manuals.\n",
    "for i, target_label in enumerate(model.classes_):\n",
    "    for j, predicted_label in enumerate(model.classes_):\n",
    "        print ('{0:^13} | {1:^15} | {2:5d}'.format(target_label, predicted_label, cmat[i,j]))"
   ]
  },
  {
   "cell_type": "code",
   "execution_count": 97,
   "metadata": {},
   "outputs": [
    {
     "data": {
      "text/plain": [
       "numpy.ndarray"
      ]
     },
     "execution_count": 97,
     "metadata": {},
     "output_type": "execute_result"
    }
   ],
   "source": [
    "type(probabilities)"
   ]
  },
  {
   "cell_type": "code",
   "execution_count": 98,
   "metadata": {
    "collapsed": true
   },
   "outputs": [],
   "source": [
    "prob_df = pd.DataFrame(probabilities)"
   ]
  },
  {
   "cell_type": "code",
   "execution_count": 99,
   "metadata": {},
   "outputs": [
    {
     "data": {
      "image/png": "[encoded data removed]",
      "text/plain": [
       "<matplotlib.figure.Figure at 0x6127218be0>"
      ]
     },
     "metadata": {},
     "output_type": "display_data"
    }
   ],
   "source": [
    "prob_df[0].hist()\n",
    "plt.show()"
   ]
  },
  {
   "cell_type": "code",
   "execution_count": 100,
   "metadata": {},
   "outputs": [
    {
     "data": {
      "text/html": [
       "<div>\n",
       "<style>\n",
       "    .dataframe thead tr:only-child th {\n",
       "        text-align: right;\n",
       "    }\n",
       "\n",
       "    .dataframe thead th {\n",
       "        text-align: left;\n",
       "    }\n",
       "\n",
       "    .dataframe tbody tr th {\n",
       "        vertical-align: top;\n",
       "    }\n",
       "</style>\n",
       "<table border=\"1\" class=\"dataframe\">\n",
       "  <thead>\n",
       "    <tr style=\"text-align: right;\">\n",
       "      <th></th>\n",
       "      <th>0</th>\n",
       "    </tr>\n",
       "  </thead>\n",
       "  <tbody>\n",
       "    <tr>\n",
       "      <th>count</th>\n",
       "      <td>707.000000</td>\n",
       "    </tr>\n",
       "    <tr>\n",
       "      <th>mean</th>\n",
       "      <td>0.249936</td>\n",
       "    </tr>\n",
       "    <tr>\n",
       "      <th>std</th>\n",
       "      <td>0.147832</td>\n",
       "    </tr>\n",
       "    <tr>\n",
       "      <th>min</th>\n",
       "      <td>0.011786</td>\n",
       "    </tr>\n",
       "    <tr>\n",
       "      <th>25%</th>\n",
       "      <td>0.140546</td>\n",
       "    </tr>\n",
       "    <tr>\n",
       "      <th>50%</th>\n",
       "      <td>0.207574</td>\n",
       "    </tr>\n",
       "    <tr>\n",
       "      <th>75%</th>\n",
       "      <td>0.311994</td>\n",
       "    </tr>\n",
       "    <tr>\n",
       "      <th>max</th>\n",
       "      <td>0.748776</td>\n",
       "    </tr>\n",
       "  </tbody>\n",
       "</table>\n",
       "</div>"
      ],
      "text/plain": [
       "                0\n",
       "count  707.000000\n",
       "mean     0.249936\n",
       "std      0.147832\n",
       "min      0.011786\n",
       "25%      0.140546\n",
       "50%      0.207574\n",
       "75%      0.311994\n",
       "max      0.748776"
      ]
     },
     "execution_count": 100,
     "metadata": {},
     "output_type": "execute_result"
    }
   ],
   "source": [
    "prob_df.describe()"
   ]
  },
  {
   "cell_type": "code",
   "execution_count": 101,
   "metadata": {},
   "outputs": [
    {
     "name": "stderr",
     "output_type": "stream",
     "text": [
      "C:\\Users\\EMBA\\Anaconda3\\lib\\site-packages\\sklearn\\multiclass.py:76: UserWarning: Label not 0 is present in all training examples.\n",
      "  str(classes[c]))\n"
     ]
    }
   ],
   "source": [
    "from sklearn.preprocessing import label_binarize\n",
    "from sklearn import svm, datasets\n",
    "\n",
    "# Use label_binarize to be multi-label like settings\n",
    "Y = label_binarize(target, classes=[-1, 0, 1])\n",
    "n_classes = Y.shape[1]\n",
    "X = features\n",
    "\n",
    "# Split into training and test\n",
    "X_train, X_test, Y_train, Y_test = train_test_split(X, Y, test_size=.25, random_state=42)\n",
    "\n",
    "# We use OneVsRestClassifier for multi-label prediction\n",
    "from sklearn.multiclass import OneVsRestClassifier\n",
    "\n",
    "# Run classifier\n",
    "classifier = OneVsRestClassifier(svm.LinearSVC(random_state=42))\n",
    "model_OneVsRest = classifier.fit(X_train, Y_train)\n",
    "y_score = classifier.decision_function(X_test)\n",
    "y_pred = classifier.predict(X_test)"
   ]
  },
  {
   "cell_type": "code",
   "execution_count": 102,
   "metadata": {},
   "outputs": [
    {
     "data": {
      "text/plain": [
       "array([[  0.        ,  -0.31256435,   1.51506924],\n",
       "       [  0.        ,   2.01526945,   2.74175014],\n",
       "       [  0.        ,   1.33877602,  -1.12090351],\n",
       "       ..., \n",
       "       [  0.        ,  -0.54118246,   0.06264151],\n",
       "       [  0.        , -25.81114739, -12.65233521],\n",
       "       [  0.        ,   0.65410742,  -1.48509999]])"
      ]
     },
     "execution_count": 102,
     "metadata": {},
     "output_type": "execute_result"
    }
   ],
   "source": [
    "y_score"
   ]
  },
  {
   "cell_type": "code",
   "execution_count": 103,
   "metadata": {},
   "outputs": [
    {
     "data": {
      "text/plain": [
       "array([[0, 0, 1],\n",
       "       [0, 1, 1],\n",
       "       [0, 1, 0],\n",
       "       ..., \n",
       "       [0, 0, 0],\n",
       "       [0, 0, 0],\n",
       "       [0, 1, 0]])"
      ]
     },
     "execution_count": 103,
     "metadata": {},
     "output_type": "execute_result"
    }
   ],
   "source": [
    "y_pred"
   ]
  },
  {
   "cell_type": "code",
   "execution_count": 104,
   "metadata": {},
   "outputs": [
    {
     "name": "stdout",
     "output_type": "stream",
     "text": [
      "Average precision-recall score: nan\n"
     ]
    },
    {
     "name": "stderr",
     "output_type": "stream",
     "text": [
      "C:\\Users\\EMBA\\Anaconda3\\lib\\site-packages\\sklearn\\metrics\\ranking.py:415: RuntimeWarning: invalid value encountered in true_divide\n",
      "  recall = tps / tps[-1]\n",
      "C:\\Users\\EMBA\\Anaconda3\\lib\\site-packages\\sklearn\\metrics\\ranking.py:96: RuntimeWarning: invalid value encountered in less\n",
      "  if np.any(dx < 0):\n"
     ]
    }
   ],
   "source": [
    "from sklearn.metrics import average_precision_score\n",
    "#from sklearn.metrics import average_recall_score\n",
    "average_precision = average_precision_score(Y_test, y_score)\n",
    "#average_recall = average_recall_score(Y_test,y_score)\n",
    "\n",
    "print('Average precision-recall score: {0:0.2f}'.format(average_precision))"
   ]
  },
  {
   "cell_type": "code",
   "execution_count": 105,
   "metadata": {},
   "outputs": [
    {
     "name": "stdout",
     "output_type": "stream",
     "text": [
      "Average precision score, micro-averaged over all classes: 0.62\n"
     ]
    },
    {
     "name": "stderr",
     "output_type": "stream",
     "text": [
      "C:\\Users\\EMBA\\Anaconda3\\lib\\site-packages\\sklearn\\metrics\\ranking.py:415: RuntimeWarning: invalid value encountered in true_divide\n",
      "  recall = tps / tps[-1]\n",
      "C:\\Users\\EMBA\\Anaconda3\\lib\\site-packages\\sklearn\\metrics\\ranking.py:96: RuntimeWarning: invalid value encountered in less\n",
      "  if np.any(dx < 0):\n"
     ]
    }
   ],
   "source": [
    "from sklearn.metrics import precision_recall_curve\n",
    "from sklearn.metrics import average_precision_score\n",
    "\n",
    "# For each class\n",
    "precision = dict()\n",
    "recall = dict()\n",
    "average_precision = dict()\n",
    "for i in range(n_classes):\n",
    "    precision[i], recall[i], _ = precision_recall_curve(Y_test[:, i],\n",
    "                                                        y_score[:, i])\n",
    "    average_precision[i] = average_precision_score(Y_test[:, i], y_score[:, i])\n",
    "\n",
    "# A \"micro-average\": quantifying score on all classes jointly\n",
    "precision[\"micro\"], recall[\"micro\"], _ = precision_recall_curve(Y_test.ravel(),\n",
    "    y_score.ravel())\n",
    "average_precision[\"micro\"] = average_precision_score(Y_test, y_score,\n",
    "                                                     average=\"micro\")\n",
    "print('Average precision score, micro-averaged over all classes: {0:0.2f}'\n",
    "\n",
    "      .format(average_precision[\"micro\"]))"
   ]
  },
  {
   "cell_type": "code",
   "execution_count": 106,
   "metadata": {},
   "outputs": [
    {
     "data": {
      "text/plain": [
       "array([[  0.        ,  -0.31256435,   1.51506924],\n",
       "       [  0.        ,   2.01526945,   2.74175014],\n",
       "       [  0.        ,   1.33877602,  -1.12090351],\n",
       "       ..., \n",
       "       [  0.        ,  -0.54118246,   0.06264151],\n",
       "       [  0.        , -25.81114739, -12.65233521],\n",
       "       [  0.        ,   0.65410742,  -1.48509999]])"
      ]
     },
     "execution_count": 106,
     "metadata": {},
     "output_type": "execute_result"
    }
   ],
   "source": [
    "y_score"
   ]
  },
  {
   "cell_type": "code",
   "execution_count": 107,
   "metadata": {},
   "outputs": [
    {
     "data": {
      "text/plain": [
       "(707, 3)"
      ]
     },
     "execution_count": 107,
     "metadata": {},
     "output_type": "execute_result"
    }
   ],
   "source": [
    "Y_test.shape"
   ]
  },
  {
   "cell_type": "code",
   "execution_count": 108,
   "metadata": {},
   "outputs": [
    {
     "data": {
      "text/plain": [
       "array([[0, 1, 0],\n",
       "       [0, 1, 0],\n",
       "       [0, 1, 0],\n",
       "       ..., \n",
       "       [0, 1, 0],\n",
       "       [0, 1, 0],\n",
       "       [0, 1, 0]])"
      ]
     },
     "execution_count": 108,
     "metadata": {},
     "output_type": "execute_result"
    }
   ],
   "source": [
    "Y_test"
   ]
  },
  {
   "cell_type": "code",
   "execution_count": 109,
   "metadata": {
    "scrolled": false
   },
   "outputs": [
    {
     "name": "stdout",
     "output_type": "stream",
     "text": [
      "0 matched 707\n",
      "0 0 0 0\n",
      "1 matched 452\n",
      "0 48 26 181\n",
      "2 matched 531\n",
      "0 59 26 91\n",
      "total rows 707\n"
     ]
    }
   ],
   "source": [
    "match = 0\n",
    "minus_1 = 0\n",
    "zero = 0\n",
    "plus_1 = 0\n",
    "unknown = 0\n",
    "for i in range(3):\n",
    "    for x in range(len(Y_test)):\n",
    "        if Y_test[x][i] == y_pred[x][i]:\n",
    "            match = match + 1\n",
    "        elif y_pred[x][0] == 1:\n",
    "            minus_1 = minus_1 + 1\n",
    "        elif y_pred[x][1] == 1:\n",
    "            zero = zero + 1\n",
    "        elif y_pred[x][2] == 1:\n",
    "            plus_1 = plus_1 + 1\n",
    "        else:\n",
    "            unknown = unknown + 1\n",
    "    print (str(i) +' matched ' +str(match))\n",
    "    print (str(minus_1) +' ' +str(zero) +' ' +str(plus_1) +' ' +str(unknown))\n",
    "    match = 0\n",
    "    minus_1 = 0\n",
    "    zero = 0\n",
    "    plus_1 = 0\n",
    "    unknown = 0\n",
    "print ('total rows ' +str(len(Y_test))) "
   ]
  },
  {
   "cell_type": "code",
   "execution_count": 110,
   "metadata": {
    "collapsed": true
   },
   "outputs": [],
   "source": [
    "import pickle"
   ]
  },
  {
   "cell_type": "code",
   "execution_count": 111,
   "metadata": {
    "collapsed": true
   },
   "outputs": [],
   "source": [
    "# save the model to disk\n",
    "pickle.dump(model, open(target_file_path, 'wb'))"
   ]
  },
  {
   "cell_type": "code",
   "execution_count": 112,
   "metadata": {
    "collapsed": true
   },
   "outputs": [],
   "source": [
    "#model_read = pickle.load(open(target_file_path, 'rb'))"
   ]
  },
  {
   "cell_type": "code",
   "execution_count": 113,
   "metadata": {
    "collapsed": true
   },
   "outputs": [],
   "source": [
    "#model_read"
   ]
  },
  {
   "cell_type": "code",
   "execution_count": 114,
   "metadata": {
    "collapsed": true
   },
   "outputs": [],
   "source": [
    "model_name ='Yesbank_model_OneVsRest_2017-10-26.sav'\n",
    "target_file_path = target_folder + model_name\n",
    "pickle.dump(model_OneVsRest, open(target_file_path, 'wb'))"
   ]
  },
  {
   "cell_type": "code",
   "execution_count": 115,
   "metadata": {
    "collapsed": true
   },
   "outputs": [],
   "source": [
    "a = y_pred[0]"
   ]
  },
  {
   "cell_type": "code",
   "execution_count": 116,
   "metadata": {},
   "outputs": [
    {
     "name": "stdout",
     "output_type": "stream",
     "text": [
      "no pred [0 1 1]\n",
      "no pred [0 1 1]\n",
      "no pred [0 1 1]\n",
      "no pred [0 1 1]\n",
      "no pred [0 1 1]\n",
      "no pred [0 1 1]\n",
      "no pred [0 1 1]\n",
      "no pred [0 1 1]\n",
      "no pred [0 1 1]\n",
      "no pred [0 1 1]\n",
      "no pred [0 1 1]\n",
      "no pred [0 1 1]\n",
      "no pred [0 1 1]\n",
      "no pred [0 1 1]\n",
      "no pred [0 1 1]\n",
      "no pred 15\n"
     ]
    }
   ],
   "source": [
    "no_pred = 0\n",
    "for i in range(len(y_pred)):\n",
    "    if y_pred[i].sum() > 1:\n",
    "        no_pred += 1\n",
    "        print ('no pred ' +str(y_pred[i]))\n",
    "print ('no pred ' +str(no_pred))"
   ]
  },
  {
   "cell_type": "code",
   "execution_count": null,
   "metadata": {
    "collapsed": true
   },
   "outputs": [],
   "source": []
  },
  {
   "cell_type": "code",
   "execution_count": null,
   "metadata": {
    "collapsed": true
   },
   "outputs": [],
   "source": []
  }
 ],
 "metadata": {
  "kernelspec": {
   "display_name": "Python 3",
   "language": "python",
   "name": "python3"
  },
  "language_info": {
   "codemirror_mode": {
    "name": "ipython",
    "version": 3
   },
   "file_extension": ".py",
   "mimetype": "text/x-python",
   "name": "python",
   "nbconvert_exporter": "python",
   "pygments_lexer": "ipython3",
   "version": "3.6.1"
  }
 },
 "nbformat": 4,
 "nbformat_minor": 2
}
